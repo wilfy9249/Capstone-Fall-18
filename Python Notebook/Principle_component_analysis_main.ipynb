{
 "cells": [
  {
   "cell_type": "code",
   "execution_count": 10,
   "metadata": {},
   "outputs": [],
   "source": [
    "# Importing the libraries\n",
    "import numpy as np\n",
    "import matplotlib.pyplot as plt\n",
    "%matplotlib inline\n",
    "import pandas as pd\n",
    "\n"
   ]
  },
  {
   "cell_type": "code",
   "execution_count": 15,
   "metadata": {},
   "outputs": [],
   "source": [
    "def performPCA(X,Y):\n",
    "    \n",
    "    # Splitting the dataset into the Training set and Test set\n",
    "    from sklearn.model_selection import train_test_split\n",
    "    X_train, X_test, Y_train, Y_test = train_test_split(X, Y, test_size = 0.25, random_state = 0)\n",
    "    \n",
    "    # Feature Scaling\n",
    "    from sklearn.preprocessing import StandardScaler\n",
    "    sc = StandardScaler()\n",
    "    X_train = sc.fit_transform(X_train)\n",
    "    X_test = sc.transform(X_test)\n",
    "    \n",
    "    # Applying PCA\n",
    "    from sklearn.decomposition import PCA\n",
    "    pca = PCA(n_components = 2)\n",
    "    X_train = pca.fit_transform(X_train)\n",
    "    X_test = pca.transform(X_test)\n",
    "    explained_variance = pca.explained_variance_ratio_\n",
    "    \n",
    "    split_data = [X_train, X_test, Y_train, Y_test]\n",
    "    \n",
    "    print(\"The Variance is\",explained_variance)\n",
    "    \n",
    "    return split_data"
   ]
  },
  {
   "cell_type": "code",
   "execution_count": 16,
   "metadata": {},
   "outputs": [],
   "source": [
    "def getConfusionMatrix(split_data):\n",
    "    \n",
    "    X_train = split_data[0]\n",
    "    X_test = split_data[1]\n",
    "    Y_train = split_data[2]\n",
    "    Y_test = split_data[3]\n",
    "\n",
    "    # Fitting Logistic Regression to the Training set\n",
    "    from sklearn.linear_model import LogisticRegression\n",
    "    classifier = LogisticRegression(random_state = 0)\n",
    "    classifier.fit(X_train, Y_train)\n",
    "    \n",
    "    # Predicting the Test set results\n",
    "    y_pred = classifier.predict(X_test)\n",
    "    \n",
    "    #Get Accuracy Score\n",
    "    from sklearn.metrics import accuracy_score\n",
    "    print (\"Accuracy:\",accuracy_score(Y_test,y_pred))\n",
    "    print(\"\")\n",
    "    \n",
    "    # Making the Confusion Matrix\n",
    "    from sklearn.metrics import confusion_matrix\n",
    "    cm = confusion_matrix(Y_test, y_pred)\n",
    "    print(\"Confusion Matrix is as follows\")\n",
    "    print(cm)\n",
    "    "
   ]
  },
  {
   "cell_type": "code",
   "execution_count": null,
   "metadata": {},
   "outputs": [],
   "source": [
    "def getConfusionMatrixNB(split_data):\n",
    "    \n",
    "    X_train = split_data[0]\n",
    "    X_test = split_data[1]\n",
    "    Y_train = split_data[2]\n",
    "    Y_test = split_data[3]\n",
    "\n",
    "    # Fitting Naive Bayes to the Training set\n",
    "    from sklearn.naive_bayes import GaussianNB\n",
    "    classifier = GaussianNB()\n",
    "    classifier.fit(X_train, Y_train)\n",
    "    \n",
    "    # Predicting the Test set results\n",
    "    y_pred = classifier.predict(X_test)\n",
    "    \n",
    "    #Get Accuracy Score\n",
    "    from sklearn.metrics import accuracy_score\n",
    "    print (\"Accuracy:\",accuracy_score(Y_test,y_pred))\n",
    "    print(\"\")\n",
    "    \n",
    "    # Making the Confusion Matrix\n",
    "    from sklearn.metrics import confusion_matrix\n",
    "    cm = confusion_matrix(Y_test, y_pred)\n",
    "    print(\"Confusion Matrix is as follows\")\n",
    "    print(cm)\n",
    "    "
   ]
  },
  {
   "cell_type": "code",
   "execution_count": 13,
   "metadata": {},
   "outputs": [],
   "source": [
    "def getXTrain():\n",
    "    return X_train\n",
    "\n",
    "def getXTest():\n",
    "    return X_test\n",
    "\n",
    "def getYTrain():\n",
    "    return Y_train\n",
    "\n",
    "def getYTest():\n",
    "    return Y_test"
   ]
  },
  {
   "cell_type": "code",
   "execution_count": 14,
   "metadata": {},
   "outputs": [],
   "source": [
    "# Visualising the results\n",
    "\n",
    "from matplotlib.colors import ListedColormap\n",
    "def getVisuals(X,Y,classifier,yLabel,title):\n",
    "        X_set, y_set = X, Y\n",
    "        X1, X2 = np.meshgrid(np.arange(start = X_set[:, 0].min() - 1, stop = X_set[:, 0].max() + 1, step = 0.01),\n",
    "                             np.arange(start = X_set[:, 1].min() - 1, stop = X_set[:, 1].max() + 1, step = 0.01))\n",
    "        plt.contourf(X1, X2, classifier.predict(np.array([X1.ravel(), X2.ravel()]).T).reshape(X1.shape),\n",
    "                     alpha = 0.5, cmap = ListedColormap(('red', 'green')))\n",
    "        plt.xlim(X1.min(), X1.max())\n",
    "        plt.ylim(X2.min(), X2.max())\n",
    "        for i, j in enumerate(np.unique(y_set)):\n",
    "            plt.scatter(X_set[y_set == j, 0], X_set[y_set == j, 1],\n",
    "                        c = ListedColormap(('red', 'green'))(i), label = j)\n",
    "        plt.title(title)\n",
    "        plt.xlabel('Crime')\n",
    "        plt.ylabel(yLabel)\n",
    "        plt.legend()\n",
    "        plt.show()"
   ]
  }
 ],
 "metadata": {
  "kernelspec": {
   "display_name": "Python 3",
   "language": "python",
   "name": "python3"
  },
  "language_info": {
   "codemirror_mode": {
    "name": "ipython",
    "version": 3
   },
   "file_extension": ".py",
   "mimetype": "text/x-python",
   "name": "python",
   "nbconvert_exporter": "python",
   "pygments_lexer": "ipython3",
   "version": "3.7.0"
  }
 },
 "nbformat": 4,
 "nbformat_minor": 2
}
