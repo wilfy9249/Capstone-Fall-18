{
 "cells": [
  {
   "cell_type": "code",
   "execution_count": 1,
   "metadata": {},
   "outputs": [],
   "source": [
    "###------NYC DEMOGRAPHIC DATA-----###"
   ]
  },
  {
   "cell_type": "code",
   "execution_count": 3,
   "metadata": {},
   "outputs": [],
   "source": [
    "# Data exploration\n",
    "import pandas as pd\n",
    "import numpy as np\n",
    "from data_utility import readCsvFile"
   ]
  },
  {
   "cell_type": "code",
   "execution_count": 4,
   "metadata": {},
   "outputs": [
    {
     "data": {
      "text/html": [
       "<div>\n",
       "<style scoped>\n",
       "    .dataframe tbody tr th:only-of-type {\n",
       "        vertical-align: middle;\n",
       "    }\n",
       "\n",
       "    .dataframe tbody tr th {\n",
       "        vertical-align: top;\n",
       "    }\n",
       "\n",
       "    .dataframe thead th {\n",
       "        text-align: right;\n",
       "    }\n",
       "</style>\n",
       "<table border=\"1\" class=\"dataframe\">\n",
       "  <thead>\n",
       "    <tr style=\"text-align: right;\">\n",
       "      <th></th>\n",
       "      <th>Borough</th>\n",
       "      <th>Estimated Population</th>\n",
       "      <th>Land Area (sq mi)</th>\n",
       "      <th>Density (per/sq mi)</th>\n",
       "      <th>Poverty Rate (%)</th>\n",
       "      <th>Mean Household Income</th>\n",
       "      <th>Median Household Income</th>\n",
       "      <th>Adults Not Graduated (%)</th>\n",
       "    </tr>\n",
       "  </thead>\n",
       "  <tbody>\n",
       "    <tr>\n",
       "      <th>0</th>\n",
       "      <td>Bronx</td>\n",
       "      <td>1471160</td>\n",
       "      <td>42.10</td>\n",
       "      <td>34653</td>\n",
       "      <td>27.1</td>\n",
       "      <td>46298</td>\n",
       "      <td>34156</td>\n",
       "      <td>38.38</td>\n",
       "    </tr>\n",
       "    <tr>\n",
       "      <th>1</th>\n",
       "      <td>Brooklyn</td>\n",
       "      <td>2648771</td>\n",
       "      <td>70.82</td>\n",
       "      <td>37137</td>\n",
       "      <td>21.9</td>\n",
       "      <td>60020</td>\n",
       "      <td>41406</td>\n",
       "      <td>33.29</td>\n",
       "    </tr>\n",
       "    <tr>\n",
       "      <th>2</th>\n",
       "      <td>Manhattan</td>\n",
       "      <td>1664727</td>\n",
       "      <td>22.83</td>\n",
       "      <td>72033</td>\n",
       "      <td>17.6</td>\n",
       "      <td>121549</td>\n",
       "      <td>64217</td>\n",
       "      <td>22.10</td>\n",
       "    </tr>\n",
       "    <tr>\n",
       "      <th>3</th>\n",
       "      <td>Queens</td>\n",
       "      <td>2358582</td>\n",
       "      <td>108.53</td>\n",
       "      <td>21460</td>\n",
       "      <td>12.0</td>\n",
       "      <td>67027</td>\n",
       "      <td>53171</td>\n",
       "      <td>23.86</td>\n",
       "    </tr>\n",
       "    <tr>\n",
       "      <th>4</th>\n",
       "      <td>Staten Island</td>\n",
       "      <td>479458</td>\n",
       "      <td>58.37</td>\n",
       "      <td>8112</td>\n",
       "      <td>9.8</td>\n",
       "      <td>81498</td>\n",
       "      <td>66985</td>\n",
       "      <td>18.43</td>\n",
       "    </tr>\n",
       "  </tbody>\n",
       "</table>\n",
       "</div>"
      ],
      "text/plain": [
       "         Borough  Estimated Population  Land Area (sq mi)  \\\n",
       "0          Bronx               1471160              42.10   \n",
       "1       Brooklyn               2648771              70.82   \n",
       "2      Manhattan               1664727              22.83   \n",
       "3         Queens               2358582             108.53   \n",
       "4  Staten Island                479458              58.37   \n",
       "\n",
       "   Density (per/sq mi)  Poverty Rate (%)  Mean Household Income  \\\n",
       "0                34653              27.1                  46298   \n",
       "1                37137              21.9                  60020   \n",
       "2                72033              17.6                 121549   \n",
       "3                21460              12.0                  67027   \n",
       "4                 8112               9.8                  81498   \n",
       "\n",
       "   Median Household Income  Adults Not Graduated (%)  \n",
       "0                    34156                     38.38  \n",
       "1                    41406                     33.29  \n",
       "2                    64217                     22.10  \n",
       "3                    53171                     23.86  \n",
       "4                    66985                     18.43  "
      ]
     },
     "execution_count": 4,
     "metadata": {},
     "output_type": "execute_result"
    }
   ],
   "source": [
    "## Read CSV\n",
    "demo_original = readCsvFile('../Data/NYC_Demographics.csv')\n",
    "demo_original.head()"
   ]
  },
  {
   "cell_type": "code",
   "execution_count": null,
   "metadata": {},
   "outputs": [],
   "source": []
  }
 ],
 "metadata": {
  "kernelspec": {
   "display_name": "Python 3",
   "language": "python",
   "name": "python3"
  },
  "language_info": {
   "codemirror_mode": {
    "name": "ipython",
    "version": 3
   },
   "file_extension": ".py",
   "mimetype": "text/x-python",
   "name": "python",
   "nbconvert_exporter": "python",
   "pygments_lexer": "ipython3",
   "version": "3.7.0"
  }
 },
 "nbformat": 4,
 "nbformat_minor": 2
}
