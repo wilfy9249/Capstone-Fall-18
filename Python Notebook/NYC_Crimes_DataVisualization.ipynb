{
 "cells": [
  {
   "cell_type": "code",
   "execution_count": 1,
   "metadata": {},
   "outputs": [],
   "source": [
    "# Data exploration\n",
    "import pandas as pd\n",
    "import numpy as np\n",
    "import matplotlib.pyplot as plt\n",
    "%matplotlib inline\n",
    "\n",
    "from NYC_GetCleaned_HistoricData import getCleanedDataFrame\n",
    "from NYC_GetCleaned_TotalPopulation import getMeanPopulation\n",
    "import data_utility"
   ]
  },
  {
   "cell_type": "code",
   "execution_count": 2,
   "metadata": {},
   "outputs": [],
   "source": [
    "#Get the Current working directory\n",
    "crimes_original = getCleanedDataFrame()"
   ]
  },
  {
   "cell_type": "code",
   "execution_count": 3,
   "metadata": {},
   "outputs": [
    {
     "data": {
      "text/plain": [
       "(5835784, 16)"
      ]
     },
     "execution_count": 3,
     "metadata": {},
     "output_type": "execute_result"
    }
   ],
   "source": [
    "crimes_original.shape"
   ]
  },
  {
   "cell_type": "code",
   "execution_count": 4,
   "metadata": {},
   "outputs": [
    {
     "data": {
      "text/html": [
       "<div>\n",
       "<style scoped>\n",
       "    .dataframe tbody tr th:only-of-type {\n",
       "        vertical-align: middle;\n",
       "    }\n",
       "\n",
       "    .dataframe tbody tr th {\n",
       "        vertical-align: top;\n",
       "    }\n",
       "\n",
       "    .dataframe thead th {\n",
       "        text-align: right;\n",
       "    }\n",
       "</style>\n",
       "<table border=\"1\" class=\"dataframe\">\n",
       "  <thead>\n",
       "    <tr style=\"text-align: right;\">\n",
       "      <th></th>\n",
       "      <th>CMPLNT_FR_DT</th>\n",
       "      <th>CMPLNT_FR_TM</th>\n",
       "      <th>CMPLNT_TO_DT</th>\n",
       "      <th>CMPLNT_TO_TM</th>\n",
       "      <th>RPT_DT</th>\n",
       "      <th>OFNS_DESC</th>\n",
       "      <th>PD_DESC</th>\n",
       "      <th>CRM_ATPT_CPTD_CD</th>\n",
       "      <th>LAW_CAT_CD</th>\n",
       "      <th>BORO_NM</th>\n",
       "      <th>ADDR_PCT_CD</th>\n",
       "      <th>LOC_OF_OCCUR_DESC</th>\n",
       "      <th>PREM_TYP_DESC</th>\n",
       "      <th>Latitude</th>\n",
       "      <th>Longitude</th>\n",
       "      <th>Lat_Lon</th>\n",
       "      <th>FELONY</th>\n",
       "      <th>MISDEMEANOR</th>\n",
       "      <th>VIOLATION</th>\n",
       "    </tr>\n",
       "    <tr>\n",
       "      <th>DateTime</th>\n",
       "      <th></th>\n",
       "      <th></th>\n",
       "      <th></th>\n",
       "      <th></th>\n",
       "      <th></th>\n",
       "      <th></th>\n",
       "      <th></th>\n",
       "      <th></th>\n",
       "      <th></th>\n",
       "      <th></th>\n",
       "      <th></th>\n",
       "      <th></th>\n",
       "      <th></th>\n",
       "      <th></th>\n",
       "      <th></th>\n",
       "      <th></th>\n",
       "      <th></th>\n",
       "      <th></th>\n",
       "      <th></th>\n",
       "    </tr>\n",
       "  </thead>\n",
       "  <tbody>\n",
       "    <tr>\n",
       "      <th>2014-03-30 20:40:00</th>\n",
       "      <td>3/30/2014</td>\n",
       "      <td>20:40:00</td>\n",
       "      <td>3/30/2014</td>\n",
       "      <td>20:50:00</td>\n",
       "      <td>3/30/2014</td>\n",
       "      <td>DANGEROUS DRUGS</td>\n",
       "      <td>CONTROLLED SUBSTANCE,INTENT TO</td>\n",
       "      <td>ATTEMPTED</td>\n",
       "      <td>FELONY</td>\n",
       "      <td>BRONX</td>\n",
       "      <td>44.0</td>\n",
       "      <td>INSIDE</td>\n",
       "      <td>RESIDENCE - APT. HOUSE</td>\n",
       "      <td>40.836162</td>\n",
       "      <td>-73.915250</td>\n",
       "      <td>(40.836161968, -73.915249813)</td>\n",
       "      <td>1</td>\n",
       "      <td>0</td>\n",
       "      <td>0</td>\n",
       "    </tr>\n",
       "    <tr>\n",
       "      <th>2014-04-16 22:10:00</th>\n",
       "      <td>4/16/2014</td>\n",
       "      <td>22:10:00</td>\n",
       "      <td>4/16/2014</td>\n",
       "      <td>22:12:00</td>\n",
       "      <td>4/17/2014</td>\n",
       "      <td>DANGEROUS DRUGS</td>\n",
       "      <td>CONTROLLED SUBSTANCE,POSSESS.</td>\n",
       "      <td>ATTEMPTED</td>\n",
       "      <td>FELONY</td>\n",
       "      <td>BRONX</td>\n",
       "      <td>47.0</td>\n",
       "      <td>INSIDE</td>\n",
       "      <td>STREET</td>\n",
       "      <td>40.894671</td>\n",
       "      <td>-73.861361</td>\n",
       "      <td>(40.894670712, -73.86136123)</td>\n",
       "      <td>1</td>\n",
       "      <td>0</td>\n",
       "      <td>0</td>\n",
       "    </tr>\n",
       "    <tr>\n",
       "      <th>2014-04-08 13:45:00</th>\n",
       "      <td>4/8/2014</td>\n",
       "      <td>13:45:00</td>\n",
       "      <td>4/8/2014</td>\n",
       "      <td>13:50:00</td>\n",
       "      <td>4/8/2014</td>\n",
       "      <td>DANGEROUS DRUGS</td>\n",
       "      <td>CONTROLLED SUBSTANCE, SALE 5</td>\n",
       "      <td>ATTEMPTED</td>\n",
       "      <td>FELONY</td>\n",
       "      <td>BRONX</td>\n",
       "      <td>52.0</td>\n",
       "      <td>INSIDE</td>\n",
       "      <td>STREET</td>\n",
       "      <td>40.864191</td>\n",
       "      <td>-73.901183</td>\n",
       "      <td>(40.864190693, -73.901182887)</td>\n",
       "      <td>1</td>\n",
       "      <td>0</td>\n",
       "      <td>0</td>\n",
       "    </tr>\n",
       "    <tr>\n",
       "      <th>2014-05-17 21:17:00</th>\n",
       "      <td>5/17/2014</td>\n",
       "      <td>21:17:00</td>\n",
       "      <td>5/17/2014</td>\n",
       "      <td>21:24:00</td>\n",
       "      <td>5/17/2014</td>\n",
       "      <td>FELONY ASSAULT</td>\n",
       "      <td>ASSAULT 2,1,PEACE OFFICER</td>\n",
       "      <td>ATTEMPTED</td>\n",
       "      <td>FELONY</td>\n",
       "      <td>BRONX</td>\n",
       "      <td>40.0</td>\n",
       "      <td>INSIDE</td>\n",
       "      <td>STREET</td>\n",
       "      <td>40.813052</td>\n",
       "      <td>-73.908159</td>\n",
       "      <td>(40.813051503, -73.908158845)</td>\n",
       "      <td>1</td>\n",
       "      <td>0</td>\n",
       "      <td>0</td>\n",
       "    </tr>\n",
       "    <tr>\n",
       "      <th>2014-04-26 00:00:00</th>\n",
       "      <td>4/26/2014</td>\n",
       "      <td>00:00:00</td>\n",
       "      <td>4/26/2014</td>\n",
       "      <td>00:01:00</td>\n",
       "      <td>4/26/2014</td>\n",
       "      <td>FELONY ASSAULT</td>\n",
       "      <td>ASSAULT 2,1,UNCLASSIFIED</td>\n",
       "      <td>ATTEMPTED</td>\n",
       "      <td>FELONY</td>\n",
       "      <td>BRONX</td>\n",
       "      <td>41.0</td>\n",
       "      <td>INSIDE</td>\n",
       "      <td>STREET</td>\n",
       "      <td>40.814602</td>\n",
       "      <td>-73.885895</td>\n",
       "      <td>(40.814601602, -73.885895461)</td>\n",
       "      <td>1</td>\n",
       "      <td>0</td>\n",
       "      <td>0</td>\n",
       "    </tr>\n",
       "  </tbody>\n",
       "</table>\n",
       "</div>"
      ],
      "text/plain": [
       "                    CMPLNT_FR_DT CMPLNT_FR_TM CMPLNT_TO_DT CMPLNT_TO_TM  \\\n",
       "DateTime                                                                  \n",
       "2014-03-30 20:40:00    3/30/2014     20:40:00    3/30/2014     20:50:00   \n",
       "2014-04-16 22:10:00    4/16/2014     22:10:00    4/16/2014     22:12:00   \n",
       "2014-04-08 13:45:00     4/8/2014     13:45:00     4/8/2014     13:50:00   \n",
       "2014-05-17 21:17:00    5/17/2014     21:17:00    5/17/2014     21:24:00   \n",
       "2014-04-26 00:00:00    4/26/2014     00:00:00    4/26/2014     00:01:00   \n",
       "\n",
       "                        RPT_DT        OFNS_DESC  \\\n",
       "DateTime                                          \n",
       "2014-03-30 20:40:00  3/30/2014  DANGEROUS DRUGS   \n",
       "2014-04-16 22:10:00  4/17/2014  DANGEROUS DRUGS   \n",
       "2014-04-08 13:45:00   4/8/2014  DANGEROUS DRUGS   \n",
       "2014-05-17 21:17:00  5/17/2014   FELONY ASSAULT   \n",
       "2014-04-26 00:00:00  4/26/2014   FELONY ASSAULT   \n",
       "\n",
       "                                            PD_DESC CRM_ATPT_CPTD_CD  \\\n",
       "DateTime                                                               \n",
       "2014-03-30 20:40:00  CONTROLLED SUBSTANCE,INTENT TO        ATTEMPTED   \n",
       "2014-04-16 22:10:00   CONTROLLED SUBSTANCE,POSSESS.        ATTEMPTED   \n",
       "2014-04-08 13:45:00    CONTROLLED SUBSTANCE, SALE 5        ATTEMPTED   \n",
       "2014-05-17 21:17:00       ASSAULT 2,1,PEACE OFFICER        ATTEMPTED   \n",
       "2014-04-26 00:00:00        ASSAULT 2,1,UNCLASSIFIED        ATTEMPTED   \n",
       "\n",
       "                    LAW_CAT_CD BORO_NM  ADDR_PCT_CD LOC_OF_OCCUR_DESC  \\\n",
       "DateTime                                                                \n",
       "2014-03-30 20:40:00     FELONY   BRONX         44.0            INSIDE   \n",
       "2014-04-16 22:10:00     FELONY   BRONX         47.0            INSIDE   \n",
       "2014-04-08 13:45:00     FELONY   BRONX         52.0            INSIDE   \n",
       "2014-05-17 21:17:00     FELONY   BRONX         40.0            INSIDE   \n",
       "2014-04-26 00:00:00     FELONY   BRONX         41.0            INSIDE   \n",
       "\n",
       "                              PREM_TYP_DESC   Latitude  Longitude  \\\n",
       "DateTime                                                            \n",
       "2014-03-30 20:40:00  RESIDENCE - APT. HOUSE  40.836162 -73.915250   \n",
       "2014-04-16 22:10:00                  STREET  40.894671 -73.861361   \n",
       "2014-04-08 13:45:00                  STREET  40.864191 -73.901183   \n",
       "2014-05-17 21:17:00                  STREET  40.813052 -73.908159   \n",
       "2014-04-26 00:00:00                  STREET  40.814602 -73.885895   \n",
       "\n",
       "                                           Lat_Lon  FELONY  MISDEMEANOR  \\\n",
       "DateTime                                                                  \n",
       "2014-03-30 20:40:00  (40.836161968, -73.915249813)       1            0   \n",
       "2014-04-16 22:10:00   (40.894670712, -73.86136123)       1            0   \n",
       "2014-04-08 13:45:00  (40.864190693, -73.901182887)       1            0   \n",
       "2014-05-17 21:17:00  (40.813051503, -73.908158845)       1            0   \n",
       "2014-04-26 00:00:00  (40.814601602, -73.885895461)       1            0   \n",
       "\n",
       "                     VIOLATION  \n",
       "DateTime                        \n",
       "2014-03-30 20:40:00          0  \n",
       "2014-04-16 22:10:00          0  \n",
       "2014-04-08 13:45:00          0  \n",
       "2014-05-17 21:17:00          0  \n",
       "2014-04-26 00:00:00          0  "
      ]
     },
     "execution_count": 4,
     "metadata": {},
     "output_type": "execute_result"
    }
   ],
   "source": [
    "\"\"\"Create a datetime index of times that crimes were reported to have been committed\"\"\"\n",
    "\n",
    "dfCopy = crimes_original.copy()\n",
    "def eliminate_dates(x):\n",
    "    if x[2] > '2050':\n",
    "        x = None\n",
    "    elif x[2] < '2010':\n",
    "        x = None\n",
    "    else:\n",
    "        aa= '/'.join(x)\n",
    "        return (aa)\n",
    "\n",
    "#get dummy columns for crime categories\n",
    "dfCopy = dfCopy.join(dfCopy['LAW_CAT_CD'].str.get_dummies())\n",
    "\n",
    "#Create index with DateTime\n",
    "dfCopy['CMPLNT_FR_DT'] = dfCopy['CMPLNT_FR_DT'].str.split(\"/\")\n",
    "dfCopy['CMPLNT_FR_DT'] = dfCopy['CMPLNT_FR_DT'].apply(lambda x: eliminate_dates(x))\n",
    "\n",
    "#Combing date and time columns\n",
    "dfCopy['DateTime'] = dfCopy['CMPLNT_FR_DT'] +' '+dfCopy['CMPLNT_FR_TM']\n",
    "dfCopy['DateTime'] = pd.to_datetime(dfCopy['DateTime'])\n",
    "\n",
    "#set full date as index\n",
    "dfCopy.set_index('DateTime', inplace=True)          \n",
    "\n",
    "dfCopy.head()"
   ]
  },
  {
   "cell_type": "code",
   "execution_count": 5,
   "metadata": {},
   "outputs": [
    {
     "data": {
      "text/plain": [
       "(5835784, 19)"
      ]
     },
     "execution_count": 5,
     "metadata": {},
     "output_type": "execute_result"
    }
   ],
   "source": [
    "dfCopy.shape"
   ]
  },
  {
   "cell_type": "code",
   "execution_count": 6,
   "metadata": {},
   "outputs": [
    {
     "data": {
      "image/png": "[encoded data removed]",
      "text/plain": [
       "<Figure size 864x432 with 1 Axes>"
      ]
     },
     "metadata": {
      "needs_background": "light"
     },
     "output_type": "display_data"
    }
   ],
   "source": [
    "\"\"\"Analysis of Violations, Felonies and Misdemeanor\"\"\"\n",
    "\n",
    "dfYear = dfCopy.copy()\n",
    "dfYear.index = dfYear.index.year\n",
    "vis0 = dfYear.groupby([dfYear.index.get_level_values(0)])[['VIOLATION','FELONY','MISDEMEANOR']].sum()\n",
    "\n",
    "vis0.plot.bar(figsize=(12,6))\n",
    "plt.title('Amount of crimes per year')\n",
    "plt.legend(loc='upper left')\n",
    "plt.xlabel('Year')\n",
    "plt.show()"
   ]
  },
  {
   "cell_type": "code",
   "execution_count": 7,
   "metadata": {},
   "outputs": [
    {
     "data": {
      "image/png": "[encoded data removed]",
      "text/plain": [
       "<Figure size 864x432 with 1 Axes>"
      ]
     },
     "metadata": {
      "needs_background": "light"
     },
     "output_type": "display_data"
    }
   ],
   "source": [
    "dfMonth = dfCopy.copy()\n",
    "dfMonth.index = dfMonth.index.month\n",
    "vis1 = dfMonth.groupby([dfMonth.index.get_level_values(0)])[['VIOLATION','FELONY','MISDEMEANOR']].sum()\n",
    "\n",
    "vis1.plot.bar(figsize=(12,6))\n",
    "plt.title('Amount of crime per month')\n",
    "plt.legend(loc='upper left')\n",
    "plt.xlabel('Month')\n",
    "plt.show()"
   ]
  },
  {
   "cell_type": "code",
   "execution_count": 8,
   "metadata": {},
   "outputs": [
    {
     "data": {
      "image/png": "[encoded data removed]",
      "text/plain": [
       "<Figure size 864x432 with 1 Axes>"
      ]
     },
     "metadata": {
      "needs_background": "light"
     },
     "output_type": "display_data"
    }
   ],
   "source": [
    "dfDay = dfCopy.copy() \n",
    "dfDay.index = dfDay.index.day\n",
    "vis2 = dfDay.groupby([dfDay.index.get_level_values(0)])[['VIOLATION','FELONY','MISDEMEANOR']].sum()\n",
    "\n",
    "vis2.plot.bar(figsize=(12,6))\n",
    "plt.title('Amount of crime per day')\n",
    "plt.xlabel('Day of Month')\n",
    "plt.show()\n"
   ]
  },
  {
   "cell_type": "code",
   "execution_count": 9,
   "metadata": {},
   "outputs": [
    {
     "data": {
      "image/png": "[encoded data removed]",
      "text/plain": [
       "<Figure size 864x432 with 1 Axes>"
      ]
     },
     "metadata": {
      "needs_background": "light"
     },
     "output_type": "display_data"
    }
   ],
   "source": [
    "dfHour = dfCopy.copy() \n",
    "dfHour.index = dfHour.index.hour  \n",
    "\n",
    "vis3 = dfHour.groupby([dfHour.index.get_level_values(0)])[['VIOLATION','FELONY','MISDEMEANOR']].sum()\n",
    "vis3.plot.bar(figsize=(12,6))\n",
    "plt.title('Amount of crime per hour')\n",
    "plt.xlabel('Time of day')\n",
    "plt.show()"
   ]
  },
  {
   "cell_type": "code",
   "execution_count": 10,
   "metadata": {},
   "outputs": [],
   "source": [
    "#Get the total mean population of NYC based on borough\n",
    "\"\"\" Bronx - 1, Brooklyn - 2, Manhattan - 3, Queens - 4, Staten Island - 5 \"\"\"\n",
    "\n",
    "bronxPop = getMeanPopulation('Bronx', 1)\n",
    "brookylnPop = getMeanPopulation('Brooklyn', 2)\n",
    "manhattanPop = getMeanPopulation('Manhattan', 3)\n",
    "queensPop = getMeanPopulation('Queens', 4)\n",
    "statIslandPop = getMeanPopulation('Staten Island', 5)"
   ]
  },
  {
   "cell_type": "code",
   "execution_count": 11,
   "metadata": {},
   "outputs": [
    {
     "data": {
      "image/png": "[encoded data removed]",
      "text/plain": [
       "<Figure size 432x288 with 1 Axes>"
      ]
     },
     "metadata": {
      "needs_background": "light"
     },
     "output_type": "display_data"
    }
   ],
   "source": [
    "\"\"\"All NYC crimes reported by boro \"\"\"\n",
    "\n",
    "crimesByBoro = dfCopy.copy()\n",
    "crimesByBoro.index = crimesByBoro.index.year\n",
    "crimesByBoro['BORO_NM'].value_counts().plot.bar()\n",
    "\n",
    "plt.ylabel('Count')\n",
    "plt.title('All crimes by Borough')\n",
    "plt.show()"
   ]
  },
  {
   "cell_type": "code",
   "execution_count": null,
   "metadata": {},
   "outputs": [],
   "source": []
  }
 ],
 "metadata": {
  "kernelspec": {
   "display_name": "Python 3",
   "language": "python",
   "name": "python3"
  },
  "language_info": {
   "codemirror_mode": {
    "name": "ipython",
    "version": 3
   },
   "file_extension": ".py",
   "mimetype": "text/x-python",
   "name": "python",
   "nbconvert_exporter": "python",
   "pygments_lexer": "ipython3",
   "version": "3.7.0"
  }
 },
 "nbformat": 4,
 "nbformat_minor": 2
}
