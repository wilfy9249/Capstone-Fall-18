{
 "cells": [
  {
   "cell_type": "code",
   "execution_count": 1,
   "metadata": {},
   "outputs": [],
   "source": [
    "# Data manipulation\n",
    "import numpy as np\n",
    "\n",
    "#Data Exploratiion\n",
    "import pandas as pd\n",
    "\n",
    "#Data Visualization\n",
    "import matplotlib.pyplot as plt\n",
    "%matplotlib inline"
   ]
  },
  {
   "cell_type": "code",
   "execution_count": 2,
   "metadata": {},
   "outputs": [
    {
     "name": "stdout",
     "output_type": "stream",
     "text": [
      "0.0\n",
      "0.0\n",
      "0.0\n",
      "0.0\n",
      "0.0\n",
      "<class 'pandas.core.frame.DataFrame'>\n",
      "Int64Index: 5835784 entries, 1 to 6039728\n",
      "Data columns (total 16 columns):\n",
      "CMPLNT_FR_DT         object\n",
      "CMPLNT_FR_TM         object\n",
      "CMPLNT_TO_DT         object\n",
      "CMPLNT_TO_TM         object\n",
      "RPT_DT               object\n",
      "OFNS_DESC            object\n",
      "PD_DESC              object\n",
      "CRM_ATPT_CPTD_CD     object\n",
      "LAW_CAT_CD           object\n",
      "BORO_NM              object\n",
      "ADDR_PCT_CD          float64\n",
      "LOC_OF_OCCUR_DESC    object\n",
      "PREM_TYP_DESC        object\n",
      "Latitude             float64\n",
      "Longitude            float64\n",
      "Lat_Lon              object\n",
      "dtypes: float64(3), object(13)\n",
      "memory usage: 756.9+ MB\n",
      "<class 'pandas.core.frame.DataFrame'>\n",
      "RangeIndex: 77 entries, 0 to 76\n",
      "Data columns (total 4 columns):\n",
      "Shape_Area    77 non-null float64\n",
      "Shape_Leng    77 non-null float64\n",
      "Precinct      77 non-null int64\n",
      "the_geom      77 non-null object\n",
      "dtypes: float64(2), int64(1), object(1)\n",
      "memory usage: 2.5+ KB\n"
     ]
    }
   ],
   "source": [
    "from sklearn.preprocessing import LabelEncoder, OneHotEncoder\n",
    "from Data_Filter_for_model_selection import getFinalData"
   ]
  },
  {
   "cell_type": "code",
   "execution_count": 3,
   "metadata": {},
   "outputs": [],
   "source": [
    "from Principle_component_analysis_main import performPCA,getConfusionMatrixNB,getVisuals"
   ]
  },
  {
   "cell_type": "code",
   "execution_count": 4,
   "metadata": {},
   "outputs": [],
   "source": [
    "crimes_pred_data = getFinalData()"
   ]
  },
  {
   "cell_type": "code",
   "execution_count": 5,
   "metadata": {},
   "outputs": [
    {
     "data": {
      "text/html": [
       "<div>\n",
       "<style scoped>\n",
       "    .dataframe tbody tr th:only-of-type {\n",
       "        vertical-align: middle;\n",
       "    }\n",
       "\n",
       "    .dataframe tbody tr th {\n",
       "        vertical-align: top;\n",
       "    }\n",
       "\n",
       "    .dataframe thead th {\n",
       "        text-align: right;\n",
       "    }\n",
       "</style>\n",
       "<table border=\"1\" class=\"dataframe\">\n",
       "  <thead>\n",
       "    <tr style=\"text-align: right;\">\n",
       "      <th></th>\n",
       "      <th>OFNS_DESC</th>\n",
       "      <th>PD_DESC</th>\n",
       "      <th>CRM_ATPT_CPTD_CD</th>\n",
       "      <th>LAW_CAT_CD</th>\n",
       "      <th>BORO_NM</th>\n",
       "      <th>LOC_OF_OCCUR_DESC</th>\n",
       "      <th>PREM_TYP_DESC</th>\n",
       "      <th>Precinct</th>\n",
       "      <th>Time</th>\n",
       "      <th>Morning</th>\n",
       "      <th>Afternoon</th>\n",
       "      <th>Evening</th>\n",
       "      <th>Night</th>\n",
       "    </tr>\n",
       "    <tr>\n",
       "      <th>StartTime</th>\n",
       "      <th></th>\n",
       "      <th></th>\n",
       "      <th></th>\n",
       "      <th></th>\n",
       "      <th></th>\n",
       "      <th></th>\n",
       "      <th></th>\n",
       "      <th></th>\n",
       "      <th></th>\n",
       "      <th></th>\n",
       "      <th></th>\n",
       "      <th></th>\n",
       "      <th></th>\n",
       "    </tr>\n",
       "  </thead>\n",
       "  <tbody>\n",
       "    <tr>\n",
       "      <th>2014-03-30 20:40:00</th>\n",
       "      <td>DANGEROUS DRUGS</td>\n",
       "      <td>CONTROLLED SUBSTANCE,INTENT TO</td>\n",
       "      <td>ATTEMPTED</td>\n",
       "      <td>FELONY</td>\n",
       "      <td>BRONX</td>\n",
       "      <td>INSIDE</td>\n",
       "      <td>RESIDENCE - APT. HOUSE</td>\n",
       "      <td>44</td>\n",
       "      <td>20.0</td>\n",
       "      <td>False</td>\n",
       "      <td>False</td>\n",
       "      <td>True</td>\n",
       "      <td>False</td>\n",
       "    </tr>\n",
       "    <tr>\n",
       "      <th>2015-12-31 19:45:00</th>\n",
       "      <td>ASSAULT 3 &amp; RELATED OFFENSES</td>\n",
       "      <td>ASSAULT 3</td>\n",
       "      <td>COMPLETED</td>\n",
       "      <td>MISDEMEANOR</td>\n",
       "      <td>BRONX</td>\n",
       "      <td>INSIDE</td>\n",
       "      <td>STREET</td>\n",
       "      <td>44</td>\n",
       "      <td>19.0</td>\n",
       "      <td>False</td>\n",
       "      <td>False</td>\n",
       "      <td>True</td>\n",
       "      <td>False</td>\n",
       "    </tr>\n",
       "    <tr>\n",
       "      <th>2015-12-31 17:15:00</th>\n",
       "      <td>ASSAULT 3 &amp; RELATED OFFENSES</td>\n",
       "      <td>ASSAULT 3</td>\n",
       "      <td>COMPLETED</td>\n",
       "      <td>MISDEMEANOR</td>\n",
       "      <td>BRONX</td>\n",
       "      <td>INSIDE</td>\n",
       "      <td>RESIDENCE - APT. HOUSE</td>\n",
       "      <td>44</td>\n",
       "      <td>17.0</td>\n",
       "      <td>False</td>\n",
       "      <td>True</td>\n",
       "      <td>False</td>\n",
       "      <td>False</td>\n",
       "    </tr>\n",
       "    <tr>\n",
       "      <th>2015-12-31 10:30:00</th>\n",
       "      <td>ASSAULT 3 &amp; RELATED OFFENSES</td>\n",
       "      <td>MENACING,UNCLASSIFIED</td>\n",
       "      <td>COMPLETED</td>\n",
       "      <td>MISDEMEANOR</td>\n",
       "      <td>BRONX</td>\n",
       "      <td>INSIDE</td>\n",
       "      <td>RESIDENCE - APT. HOUSE</td>\n",
       "      <td>44</td>\n",
       "      <td>10.0</td>\n",
       "      <td>True</td>\n",
       "      <td>False</td>\n",
       "      <td>False</td>\n",
       "      <td>False</td>\n",
       "    </tr>\n",
       "    <tr>\n",
       "      <th>2015-12-31 00:23:00</th>\n",
       "      <td>ASSAULT 3 &amp; RELATED OFFENSES</td>\n",
       "      <td>ASSAULT 3</td>\n",
       "      <td>COMPLETED</td>\n",
       "      <td>MISDEMEANOR</td>\n",
       "      <td>BRONX</td>\n",
       "      <td>INSIDE</td>\n",
       "      <td>STREET</td>\n",
       "      <td>44</td>\n",
       "      <td>0.0</td>\n",
       "      <td>True</td>\n",
       "      <td>False</td>\n",
       "      <td>False</td>\n",
       "      <td>False</td>\n",
       "    </tr>\n",
       "  </tbody>\n",
       "</table>\n",
       "</div>"
      ],
      "text/plain": [
       "                                        OFNS_DESC  \\\n",
       "StartTime                                           \n",
       "2014-03-30 20:40:00               DANGEROUS DRUGS   \n",
       "2015-12-31 19:45:00  ASSAULT 3 & RELATED OFFENSES   \n",
       "2015-12-31 17:15:00  ASSAULT 3 & RELATED OFFENSES   \n",
       "2015-12-31 10:30:00  ASSAULT 3 & RELATED OFFENSES   \n",
       "2015-12-31 00:23:00  ASSAULT 3 & RELATED OFFENSES   \n",
       "\n",
       "                                            PD_DESC CRM_ATPT_CPTD_CD  \\\n",
       "StartTime                                                              \n",
       "2014-03-30 20:40:00  CONTROLLED SUBSTANCE,INTENT TO        ATTEMPTED   \n",
       "2015-12-31 19:45:00                       ASSAULT 3        COMPLETED   \n",
       "2015-12-31 17:15:00                       ASSAULT 3        COMPLETED   \n",
       "2015-12-31 10:30:00           MENACING,UNCLASSIFIED        COMPLETED   \n",
       "2015-12-31 00:23:00                       ASSAULT 3        COMPLETED   \n",
       "\n",
       "                      LAW_CAT_CD BORO_NM LOC_OF_OCCUR_DESC  \\\n",
       "StartTime                                                    \n",
       "2014-03-30 20:40:00       FELONY   BRONX            INSIDE   \n",
       "2015-12-31 19:45:00  MISDEMEANOR   BRONX            INSIDE   \n",
       "2015-12-31 17:15:00  MISDEMEANOR   BRONX            INSIDE   \n",
       "2015-12-31 10:30:00  MISDEMEANOR   BRONX            INSIDE   \n",
       "2015-12-31 00:23:00  MISDEMEANOR   BRONX            INSIDE   \n",
       "\n",
       "                              PREM_TYP_DESC  Precinct  Time  Morning  \\\n",
       "StartTime                                                              \n",
       "2014-03-30 20:40:00  RESIDENCE - APT. HOUSE        44  20.0    False   \n",
       "2015-12-31 19:45:00                  STREET        44  19.0    False   \n",
       "2015-12-31 17:15:00  RESIDENCE - APT. HOUSE        44  17.0    False   \n",
       "2015-12-31 10:30:00  RESIDENCE - APT. HOUSE        44  10.0     True   \n",
       "2015-12-31 00:23:00                  STREET        44   0.0     True   \n",
       "\n",
       "                     Afternoon  Evening  Night  \n",
       "StartTime                                       \n",
       "2014-03-30 20:40:00      False     True  False  \n",
       "2015-12-31 19:45:00      False     True  False  \n",
       "2015-12-31 17:15:00       True    False  False  \n",
       "2015-12-31 10:30:00      False    False  False  \n",
       "2015-12-31 00:23:00      False    False  False  "
      ]
     },
     "execution_count": 5,
     "metadata": {},
     "output_type": "execute_result"
    }
   ],
   "source": [
    "crimes_pred_data.head()"
   ]
  },
  {
   "cell_type": "code",
   "execution_count": 6,
   "metadata": {},
   "outputs": [
    {
     "data": {
      "text/plain": [
       "False    38687\n",
       "True      4572\n",
       "Name: Night, dtype: int64"
      ]
     },
     "execution_count": 6,
     "metadata": {},
     "output_type": "execute_result"
    }
   ],
   "source": [
    "crimes_pred_data['Night'].value_counts()"
   ]
  },
  {
   "cell_type": "code",
   "execution_count": 23,
   "metadata": {},
   "outputs": [
    {
     "name": "stdout",
     "output_type": "stream",
     "text": [
      "The Variance is [0.34866883 0.25363372]\n",
      "Accuracy: 0.7816920943134535\n",
      "\n",
      "Confusion Matrix is as follows\n",
      "[[8454    0]\n",
      " [2361    0]]\n"
     ]
    },
    {
     "name": "stderr",
     "output_type": "stream",
     "text": [
      "C:\\Users\\wilfr\\Anaconda3\\lib\\site-packages\\sklearn\\utils\\validation.py:475: DataConversionWarning: Data with input dtype int64 was converted to float64 by StandardScaler.\n",
      "  warnings.warn(msg, DataConversionWarning)\n"
     ]
    },
    {
     "ename": "AttributeError",
     "evalue": "'NoneType' object has no attribute 'predict'",
     "output_type": "error",
     "traceback": [
      "\u001b[1;31m---------------------------------------------------------------------------\u001b[0m",
      "\u001b[1;31mAttributeError\u001b[0m                            Traceback (most recent call last)",
      "\u001b[1;32m<ipython-input-23-0ac45d133a9f>\u001b[0m in \u001b[0;36m<module>\u001b[1;34m()\u001b[0m\n\u001b[0;32m     19\u001b[0m \u001b[1;33m\u001b[0m\u001b[0m\n\u001b[0;32m     20\u001b[0m \u001b[1;31m#Plot Training Set\u001b[0m\u001b[1;33m\u001b[0m\u001b[1;33m\u001b[0m\u001b[0m\n\u001b[1;32m---> 21\u001b[1;33m \u001b[0mgetVisuals\u001b[0m\u001b[1;33m(\u001b[0m\u001b[0msplit_data_morn\u001b[0m\u001b[1;33m[\u001b[0m\u001b[1;36m0\u001b[0m\u001b[1;33m]\u001b[0m\u001b[1;33m,\u001b[0m\u001b[0msplit_data_morn\u001b[0m\u001b[1;33m[\u001b[0m\u001b[1;36m2\u001b[0m\u001b[1;33m]\u001b[0m\u001b[1;33m,\u001b[0m\u001b[0mclassifier\u001b[0m\u001b[1;33m,\u001b[0m\u001b[1;34m'Morning'\u001b[0m\u001b[1;33m,\u001b[0m \u001b[1;34m'Logistic Regression (Training Set)'\u001b[0m\u001b[1;33m)\u001b[0m\u001b[1;33m\u001b[0m\u001b[0m\n\u001b[0m",
      "\u001b[1;32m~\\Downloads\\Python Code\\Capstone-Fall-18\\Python Notebook\\Principle_component_analysis_main.py\u001b[0m in \u001b[0;36mgetVisuals\u001b[1;34m(X, Y, classifier, yLabel, title)\u001b[0m\n\u001b[0;32m    123\u001b[0m         \u001b[0mX_set\u001b[0m\u001b[1;33m,\u001b[0m \u001b[0my_set\u001b[0m \u001b[1;33m=\u001b[0m \u001b[0mX\u001b[0m\u001b[1;33m,\u001b[0m \u001b[0mY\u001b[0m\u001b[1;33m\u001b[0m\u001b[0m\n\u001b[0;32m    124\u001b[0m         X1, X2 = np.meshgrid(np.arange(start = X_set[:, 0].min() - 1, stop = X_set[:, 0].max() + 1, step = 0.01),\n\u001b[1;32m--> 125\u001b[1;33m                              np.arange(start = X_set[:, 1].min() - 1, stop = X_set[:, 1].max() + 1, step = 0.01))\n\u001b[0m\u001b[0;32m    126\u001b[0m         plt.contourf(X1, X2, classifier.predict(np.array([X1.ravel(), X2.ravel()]).T).reshape(X1.shape),\n\u001b[0;32m    127\u001b[0m                      alpha = 0.5, cmap = ListedColormap(('red', 'green')))\n",
      "\u001b[1;31mAttributeError\u001b[0m: 'NoneType' object has no attribute 'predict'"
     ]
    }
   ],
   "source": [
    "# Target variable as Morning\n",
    "\n",
    "data_morn = crimes_pred_data.drop(['PD_DESC','CRM_ATPT_CPTD_CD','BORO_NM','Precinct','Time','Afternoon','Evening','Night'],axis=1)\n",
    "labelencoder_X = LabelEncoder()\n",
    "data_morn['OFNS_DESC'] = labelencoder_X.fit_transform(data_morn['OFNS_DESC'])\n",
    "data_morn['PREM_TYP_DESC'] = labelencoder_X.fit_transform(data_morn['PREM_TYP_DESC'])\n",
    "data_morn['LAW_CAT_CD'] = labelencoder_X.fit_transform(data_morn['LAW_CAT_CD'])\n",
    "data_morn['LOC_OF_OCCUR_DESC'] = labelencoder_X.fit_transform(data_morn['LOC_OF_OCCUR_DESC'])\n",
    "data_morn['Morning'] = labelencoder_X.fit_transform(data_morn['Morning'])\n",
    "    \n",
    "X_morn = data_morn.iloc[:, 0:4].values\n",
    "Y_morn = data_morn.iloc[:, 4].values\n",
    "  \n",
    "# perform Principle Component Analysis\n",
    "split_data_morn = performPCA(X_morn,Y_morn)\n",
    "\n",
    "#Compute Confusion Matrix\n",
    "classifier = getConfusionMatrixNB(split_data_morn)\n",
    "\n",
    "#Plot Training Set\n",
    "getVisuals(split_data_morn[0],split_data_morn[2],classifier,'Morning', 'Logistic Regression (Training Set)')\n"
   ]
  },
  {
   "cell_type": "code",
   "execution_count": 12,
   "metadata": {},
   "outputs": [
    {
     "name": "stdout",
     "output_type": "stream",
     "text": [
      "The Variance is [0.34866883 0.25363372]\n",
      "Accuracy: 0.8355062413314841\n",
      "\n",
      "Confusion Matrix is as follows\n",
      "[[9036    0]\n",
      " [1779    0]]\n"
     ]
    },
    {
     "name": "stderr",
     "output_type": "stream",
     "text": [
      "C:\\Users\\wilfr\\Anaconda3\\lib\\site-packages\\sklearn\\utils\\validation.py:475: DataConversionWarning: Data with input dtype int64 was converted to float64 by StandardScaler.\n",
      "  warnings.warn(msg, DataConversionWarning)\n"
     ]
    }
   ],
   "source": [
    "#Target Variable as Afternoon\n",
    "data = crimes_pred_data.drop(['PD_DESC','CRM_ATPT_CPTD_CD','BORO_NM','Precinct','Time','Morning','Evening','Night'],axis=1)\n",
    "labelencoder_X = LabelEncoder()\n",
    "data['OFNS_DESC'] = labelencoder_X.fit_transform(data['OFNS_DESC'])\n",
    "data['PREM_TYP_DESC'] = labelencoder_X.fit_transform(data['PREM_TYP_DESC'])\n",
    "data['LAW_CAT_CD'] = labelencoder_X.fit_transform(data['LAW_CAT_CD'])\n",
    "data['LOC_OF_OCCUR_DESC'] = labelencoder_X.fit_transform(data['LOC_OF_OCCUR_DESC'])\n",
    "data['Afternoon'] = labelencoder_X.fit_transform(data['Afternoon'])\n",
    "    \n",
    "X_noon = data.iloc[:, 0:4].values\n",
    "Y_noon = data.iloc[:, 4].values\n",
    "\n",
    "# perform Principle Component Analysis\n",
    "split_data_noon = performPCA(X_noon,Y_noon)\n",
    "\n",
    "#Compute Confusion Matrix\n",
    "getConfusionMatrixNB(split_data_noon)"
   ]
  },
  {
   "cell_type": "code",
   "execution_count": 13,
   "metadata": {},
   "outputs": [
    {
     "name": "stdout",
     "output_type": "stream",
     "text": [
      "The Variance is [0.34866883 0.25363372]\n",
      "Accuracy: 0.874711049468331\n",
      "\n",
      "Confusion Matrix is as follows\n",
      "[[9457    4]\n",
      " [1351    3]]\n"
     ]
    },
    {
     "name": "stderr",
     "output_type": "stream",
     "text": [
      "C:\\Users\\wilfr\\Anaconda3\\lib\\site-packages\\sklearn\\utils\\validation.py:475: DataConversionWarning: Data with input dtype int64 was converted to float64 by StandardScaler.\n",
      "  warnings.warn(msg, DataConversionWarning)\n"
     ]
    }
   ],
   "source": [
    "#Target Variable as Evening\n",
    "data = crimes_pred_data.drop(['PD_DESC','CRM_ATPT_CPTD_CD','BORO_NM','Precinct','Time','Morning','Afternoon','Night'],axis=1)\n",
    "labelencoder_X = LabelEncoder()\n",
    "data['OFNS_DESC'] = labelencoder_X.fit_transform(data['OFNS_DESC'])\n",
    "data['PREM_TYP_DESC'] = labelencoder_X.fit_transform(data['PREM_TYP_DESC'])\n",
    "data['LAW_CAT_CD'] = labelencoder_X.fit_transform(data['LAW_CAT_CD'])\n",
    "data['LOC_OF_OCCUR_DESC'] = labelencoder_X.fit_transform(data['LOC_OF_OCCUR_DESC'])\n",
    "data['Evening'] = labelencoder_X.fit_transform(data['Evening'])\n",
    "    \n",
    "X_eve = data.iloc[:, 0:4].values\n",
    "Y_eve = data.iloc[:, 4].values\n",
    "\n",
    "# perform Principle Component Analysis\n",
    "split_data_eve = performPCA(X_eve,Y_eve)\n",
    "\n",
    "#Compute Confusion Matrix\n",
    "getConfusionMatrixNB(split_data_eve)"
   ]
  },
  {
   "cell_type": "code",
   "execution_count": 14,
   "metadata": {},
   "outputs": [
    {
     "name": "stdout",
     "output_type": "stream",
     "text": [
      "The Variance is [0.34866883 0.25363372]\n",
      "Accuracy: 0.8940360610263522\n",
      "\n",
      "Confusion Matrix is as follows\n",
      "[[9669    0]\n",
      " [1146    0]]\n"
     ]
    },
    {
     "name": "stderr",
     "output_type": "stream",
     "text": [
      "C:\\Users\\wilfr\\Anaconda3\\lib\\site-packages\\sklearn\\utils\\validation.py:475: DataConversionWarning: Data with input dtype int64 was converted to float64 by StandardScaler.\n",
      "  warnings.warn(msg, DataConversionWarning)\n"
     ]
    }
   ],
   "source": [
    "#Target Variable as Night\n",
    "data = crimes_pred_data.drop(['PD_DESC','CRM_ATPT_CPTD_CD','BORO_NM','Precinct','Time','Morning','Afternoon','Evening'],axis=1)\n",
    "labelencoder_X = LabelEncoder()\n",
    "data['OFNS_DESC'] = labelencoder_X.fit_transform(data['OFNS_DESC'])\n",
    "data['PREM_TYP_DESC'] = labelencoder_X.fit_transform(data['PREM_TYP_DESC'])\n",
    "data['LAW_CAT_CD'] = labelencoder_X.fit_transform(data['LAW_CAT_CD'])\n",
    "data['LOC_OF_OCCUR_DESC'] = labelencoder_X.fit_transform(data['LOC_OF_OCCUR_DESC'])\n",
    "data['Night'] = labelencoder_X.fit_transform(data['Night'])\n",
    "    \n",
    "X_night = data.iloc[:, 0:4].values\n",
    "Y_night = data.iloc[:, 4].values\n",
    "\n",
    "# perform Principle Component Analysis\n",
    "split_data_night = performPCA(X_night,Y_night)\n",
    "\n",
    "#Compute Confusion Matrix\n",
    "getConfusionMatrixNB(split_data_night)"
   ]
  },
  {
   "cell_type": "code",
   "execution_count": 18,
   "metadata": {},
   "outputs": [
    {
     "name": "stdout",
     "output_type": "stream",
     "text": [
      "The Variance is [0.18336729 0.16921799]\n",
      "Accuracy: 0.5757743874248729\n",
      "\n",
      "Confusion Matrix is as follows\n",
      "[[2176 1351    0]\n",
      " [ 747 4051    0]\n",
      " [ 810 1680    0]]\n"
     ]
    },
    {
     "name": "stderr",
     "output_type": "stream",
     "text": [
      "C:\\Users\\wilfr\\Anaconda3\\lib\\site-packages\\sklearn\\utils\\validation.py:475: DataConversionWarning: Data with input dtype int64 was converted to float64 by StandardScaler.\n",
      "  warnings.warn(msg, DataConversionWarning)\n"
     ]
    }
   ],
   "source": [
    "#Target Variable as Ofns_desc\n",
    "data = crimes_pred_data.drop(['OFNS_DESC','PD_DESC','CRM_ATPT_CPTD_CD','Precinct','Time','BORO_NM'],axis=1)\n",
    "labelencoder_X = LabelEncoder()\n",
    "#data['OFNS_DESC'] = labelencoder_X.fit_transform(data['OFNS_DESC'])\n",
    "data['PREM_TYP_DESC'] = labelencoder_X.fit_transform(data['PREM_TYP_DESC'])\n",
    "data['LAW_CAT_CD'] = labelencoder_X.fit_transform(data['LAW_CAT_CD'])\n",
    "data['LOC_OF_OCCUR_DESC'] = labelencoder_X.fit_transform(data['LOC_OF_OCCUR_DESC'])\n",
    "data['Morning'] = labelencoder_X.fit_transform(data['Morning'])\n",
    "data['Afternoon'] = labelencoder_X.fit_transform(data['Afternoon'])\n",
    "data['Evening'] = labelencoder_X.fit_transform(data['Evening'])\n",
    "data['Night'] = labelencoder_X.fit_transform(data['Night'])\n",
    "    \n",
    "dataY = crimes_pred_data.copy()\n",
    "dataY = dataY.drop(['PD_DESC','CRM_ATPT_CPTD_CD','Precinct','Time','Morning','Afternoon','Evening','BORO_NM','LAW_CAT_CD','LOC_OF_OCCUR_DESC','PREM_TYP_DESC','Night'],axis=1)\n",
    "#dataY.head()\n",
    "dataY['OFNS_DESC'] = labelencoder_X.fit_transform(dataY['OFNS_DESC'])\n",
    "\n",
    "X_ofns = data.iloc[:, 0:7].values\n",
    "Y_ofns = dataY.iloc[:,0].values\n",
    "\n",
    "# perform Principle Component Analysis\n",
    "split_data_ofns = performPCA(X_ofns,Y_ofns)\n",
    "\n",
    "#Compute Confusion Matrix\n",
    "getConfusionMatrixNB(split_data_ofns)"
   ]
  },
  {
   "cell_type": "code",
   "execution_count": 20,
   "metadata": {},
   "outputs": [
    {
     "name": "stdout",
     "output_type": "stream",
     "text": [
      "The Variance is [0.17825909 0.16682529]\n",
      "Accuracy: 0.6338418862690708\n",
      "\n",
      "Confusion Matrix is as follows\n",
      "[[   0    0 3398]\n",
      " [   0    0  562]\n",
      " [   0    0 6855]]\n"
     ]
    },
    {
     "name": "stderr",
     "output_type": "stream",
     "text": [
      "C:\\Users\\wilfr\\Anaconda3\\lib\\site-packages\\sklearn\\utils\\validation.py:475: DataConversionWarning: Data with input dtype int64 was converted to float64 by StandardScaler.\n",
      "  warnings.warn(msg, DataConversionWarning)\n"
     ]
    }
   ],
   "source": [
    "#Target Variable as PREM_TYP_DESC\n",
    "data = crimes_pred_data.drop(['PREM_TYP_DESC','PD_DESC','CRM_ATPT_CPTD_CD','Precinct','Time','BORO_NM'],axis=1)\n",
    "labelencoder_X = LabelEncoder()\n",
    "data['OFNS_DESC'] = labelencoder_X.fit_transform(data['OFNS_DESC'])\n",
    "#data['PREM_TYP_DESC'] = labelencoder_X.fit_transform(data['PREM_TYP_DESC'])\n",
    "data['LAW_CAT_CD'] = labelencoder_X.fit_transform(data['LAW_CAT_CD'])\n",
    "data['LOC_OF_OCCUR_DESC'] = labelencoder_X.fit_transform(data['LOC_OF_OCCUR_DESC'])\n",
    "data['Morning'] = labelencoder_X.fit_transform(data['Morning'])\n",
    "data['Afternoon'] = labelencoder_X.fit_transform(data['Afternoon'])\n",
    "data['Evening'] = labelencoder_X.fit_transform(data['Evening'])\n",
    "data['Night'] = labelencoder_X.fit_transform(data['Night'])\n",
    "    \n",
    "dataY = crimes_pred_data.copy()\n",
    "dataY = dataY.drop(['PD_DESC','CRM_ATPT_CPTD_CD','Precinct','Time','Morning','Afternoon','Evening','BORO_NM','LAW_CAT_CD','LOC_OF_OCCUR_DESC','OFNS_DESC','Night'],axis=1)\n",
    "#dataY.head()\n",
    "dataY['PREM_TYP_DESC'] = labelencoder_X.fit_transform(dataY['PREM_TYP_DESC'])\n",
    "\n",
    "X_prem = data.iloc[:, 0:7].values\n",
    "Y_prem = dataY.iloc[:,0].values\n",
    "\n",
    "# perform Principle Component Analysis\n",
    "split_data_prem = performPCA(X_prem,Y_prem)\n",
    "\n",
    "#Compute Confusion Matrix\n",
    "getConfusionMatrixNB(split_data_prem)"
   ]
  },
  {
   "cell_type": "code",
   "execution_count": 21,
   "metadata": {},
   "outputs": [
    {
     "name": "stdout",
     "output_type": "stream",
     "text": [
      "The Variance is [0.19834576 0.17557375]\n",
      "Accuracy: 0.9249190938511327\n",
      "\n",
      "Confusion Matrix is as follows\n",
      "[[    0   812]\n",
      " [    0 10003]]\n"
     ]
    },
    {
     "name": "stderr",
     "output_type": "stream",
     "text": [
      "C:\\Users\\wilfr\\Anaconda3\\lib\\site-packages\\sklearn\\utils\\validation.py:475: DataConversionWarning: Data with input dtype int64 was converted to float64 by StandardScaler.\n",
      "  warnings.warn(msg, DataConversionWarning)\n"
     ]
    }
   ],
   "source": [
    "#Target Variable as LAW_CAT_CD\n",
    "data = crimes_pred_data.drop(['LAW_CAT_CD','PD_DESC','CRM_ATPT_CPTD_CD','Precinct','Time','BORO_NM'],axis=1)\n",
    "labelencoder_X = LabelEncoder()\n",
    "data['OFNS_DESC'] = labelencoder_X.fit_transform(data['OFNS_DESC'])\n",
    "data['PREM_TYP_DESC'] = labelencoder_X.fit_transform(data['PREM_TYP_DESC'])\n",
    "#data['LAW_CAT_CD'] = labelencoder_X.fit_transform(data['LAW_CAT_CD'])\n",
    "data['LOC_OF_OCCUR_DESC'] = labelencoder_X.fit_transform(data['LOC_OF_OCCUR_DESC'])\n",
    "data['Morning'] = labelencoder_X.fit_transform(data['Morning'])\n",
    "data['Afternoon'] = labelencoder_X.fit_transform(data['Afternoon'])\n",
    "data['Evening'] = labelencoder_X.fit_transform(data['Evening'])\n",
    "data['Night'] = labelencoder_X.fit_transform(data['Night'])\n",
    "    \n",
    "dataY = crimes_pred_data.copy()\n",
    "dataY = dataY.drop(['PD_DESC','CRM_ATPT_CPTD_CD','Precinct','Time','Morning','Afternoon','Evening','BORO_NM','PREM_TYP_DESC','LOC_OF_OCCUR_DESC','OFNS_DESC','Night'],axis=1)\n",
    "#dataY.head()\n",
    "dataY['LAW_CAT_CD'] = labelencoder_X.fit_transform(dataY['LAW_CAT_CD'])\n",
    "\n",
    "X_law = data.iloc[:, 0:7].values\n",
    "Y_law = dataY.iloc[:,0].values\n",
    "\n",
    "# perform Principle Component Analysis\n",
    "split_data_law = performPCA(X_law,Y_law)\n",
    "\n",
    "#Compute Confusion Matrix\n",
    "getConfusionMatrixNB(split_data_law)"
   ]
  },
  {
   "cell_type": "code",
   "execution_count": 22,
   "metadata": {},
   "outputs": [
    {
     "name": "stdout",
     "output_type": "stream",
     "text": [
      "The Variance is [0.19619752 0.17648708]\n",
      "Accuracy: 0.7061488673139159\n",
      "\n",
      "Confusion Matrix is as follows\n",
      "[[   0 2621    0    0]\n",
      " [   0 7637    0    0]\n",
      " [   0  392    0    0]\n",
      " [   0  165    0    0]]\n"
     ]
    },
    {
     "name": "stderr",
     "output_type": "stream",
     "text": [
      "C:\\Users\\wilfr\\Anaconda3\\lib\\site-packages\\sklearn\\utils\\validation.py:475: DataConversionWarning: Data with input dtype int64 was converted to float64 by StandardScaler.\n",
      "  warnings.warn(msg, DataConversionWarning)\n"
     ]
    }
   ],
   "source": [
    "#Target Variable as LOC_OF_OCCUR_DESC\n",
    "data = crimes_pred_data.drop(['LOC_OF_OCCUR_DESC','PD_DESC','CRM_ATPT_CPTD_CD','Precinct','Time','BORO_NM'],axis=1)\n",
    "labelencoder_X = LabelEncoder()\n",
    "data['OFNS_DESC'] = labelencoder_X.fit_transform(data['OFNS_DESC'])\n",
    "data['PREM_TYP_DESC'] = labelencoder_X.fit_transform(data['PREM_TYP_DESC'])\n",
    "data['LAW_CAT_CD'] = labelencoder_X.fit_transform(data['LAW_CAT_CD'])\n",
    "#data['LOC_OF_OCCUR_DESC'] = labelencoder_X.fit_transform(data['LOC_OF_OCCUR_DESC'])\n",
    "data['Morning'] = labelencoder_X.fit_transform(data['Morning'])\n",
    "data['Afternoon'] = labelencoder_X.fit_transform(data['Afternoon'])\n",
    "data['Evening'] = labelencoder_X.fit_transform(data['Evening'])\n",
    "data['Night'] = labelencoder_X.fit_transform(data['Night'])\n",
    "    \n",
    "dataY = crimes_pred_data.copy()\n",
    "dataY = dataY.drop(['PD_DESC','CRM_ATPT_CPTD_CD','Precinct','Time','Morning','Afternoon','Evening','BORO_NM','PREM_TYP_DESC','LAW_CAT_CD','OFNS_DESC','Night'],axis=1)\n",
    "#dataY.head()\n",
    "dataY['LOC_OF_OCCUR_DESC'] = labelencoder_X.fit_transform(dataY['LOC_OF_OCCUR_DESC'])\n",
    "\n",
    "X_loc = data.iloc[:, 0:7].values\n",
    "Y_loc = dataY.iloc[:,0].values\n",
    "\n",
    "# perform Principle Component Analysis\n",
    "split_data_loc = performPCA(X_loc,Y_loc)\n",
    "\n",
    "#Compute Confusion Matrix\n",
    "getConfusionMatrixNB(split_data_loc)"
   ]
  },
  {
   "cell_type": "code",
   "execution_count": null,
   "metadata": {},
   "outputs": [],
   "source": []
  }
 ],
 "metadata": {
  "kernelspec": {
   "display_name": "Python 3",
   "language": "python",
   "name": "python3"
  },
  "language_info": {
   "codemirror_mode": {
    "name": "ipython",
    "version": 3
   },
   "file_extension": ".py",
   "mimetype": "text/x-python",
   "name": "python",
   "nbconvert_exporter": "python",
   "pygments_lexer": "ipython3",
   "version": "3.7.0"
  }
 },
 "nbformat": 4,
 "nbformat_minor": 2
}
