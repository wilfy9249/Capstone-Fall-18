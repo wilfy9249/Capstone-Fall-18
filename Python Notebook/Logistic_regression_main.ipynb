{
 "cells": [
  {
   "cell_type": "code",
   "execution_count": 1,
   "metadata": {},
   "outputs": [],
   "source": [
    "# Data manipulation\n",
    "import numpy as np\n",
    "\n",
    "#Data Exploratiion\n",
    "import pandas as pd\n",
    "\n",
    "#Data Visualization\n",
    "import matplotlib.pyplot as plt\n",
    "%matplotlib inline"
   ]
  },
  {
   "cell_type": "code",
   "execution_count": 18,
   "metadata": {},
   "outputs": [],
   "source": [
    "from sklearn.preprocessing import LabelEncoder, OneHotEncoder\n",
    "from Data_Filter_for_model_selection import getFinalData"
   ]
  },
  {
   "cell_type": "code",
   "execution_count": 3,
   "metadata": {},
   "outputs": [],
   "source": [
    "from Principle_component_analysis_main import performPCA,getConfusionMatrix,getVisuals"
   ]
  },
  {
   "cell_type": "code",
   "execution_count": 4,
   "metadata": {},
   "outputs": [],
   "source": [
    "crimes_pred_data = getFinalData()"
   ]
  },
  {
   "cell_type": "code",
   "execution_count": 5,
   "metadata": {},
   "outputs": [
    {
     "name": "stderr",
     "output_type": "stream",
     "text": [
      "P:\\Anaconda\\lib\\site-packages\\sklearn\\utils\\validation.py:475: DataConversionWarning: Data with input dtype int64 was converted to float64 by StandardScaler.\n",
      "  warnings.warn(msg, DataConversionWarning)\n"
     ]
    },
    {
     "name": "stdout",
     "output_type": "stream",
     "text": [
      "The Variance is [0.34866883 0.25363372]\n",
      "Accuracy: 0.7816920943134535\n",
      "\n",
      "Confusion Matrix is as follows\n",
      "[[8454    0]\n",
      " [2361    0]]\n"
     ]
    }
   ],
   "source": [
    "# Target variable as Morning\n",
    "\n",
    "data = crimes_pred_data.drop(['PD_DESC','CRM_ATPT_CPTD_CD','Precinct','Time','Afternoon','Evening','Night'],axis=1)\n",
    "labelencoder_X = LabelEncoder()\n",
    "data['OFNS_DESC'] = labelencoder_X.fit_transform(data['OFNS_DESC'])\n",
    "data['PREM_TYP_DESC'] = labelencoder_X.fit_transform(data['PREM_TYP_DESC'])\n",
    "data['LAW_CAT_CD'] = labelencoder_X.fit_transform(data['LAW_CAT_CD'])\n",
    "data['LOC_OF_OCCUR_DESC'] = labelencoder_X.fit_transform(data['LOC_OF_OCCUR_DESC'])\n",
    "data['Morning'] = labelencoder_X.fit_transform(data['Morning'])\n",
    "    \n",
    "X = data.iloc[:, 0:4].values\n",
    "Y = data.iloc[:, 4].values\n",
    "  \n",
    "# perform Principle Component Analysis\n",
    "split_data_morn = performPCA(X,Y)\n",
    "\n",
    "#Compute Confusion Matrix\n",
    "getConfusionMatrix(split_data_morn)\n",
    "\n"
   ]
  },
  {
   "cell_type": "code",
   "execution_count": 6,
   "metadata": {},
   "outputs": [
    {
     "name": "stdout",
     "output_type": "stream",
     "text": [
      "The Variance is [0.34866883 0.25363372]\n",
      "Accuracy: 0.8355062413314841\n",
      "\n",
      "Confusion Matrix is as follows\n",
      "[[9036    0]\n",
      " [1779    0]]\n"
     ]
    },
    {
     "name": "stderr",
     "output_type": "stream",
     "text": [
      "P:\\Anaconda\\lib\\site-packages\\sklearn\\utils\\validation.py:475: DataConversionWarning: Data with input dtype int64 was converted to float64 by StandardScaler.\n",
      "  warnings.warn(msg, DataConversionWarning)\n"
     ]
    }
   ],
   "source": [
    "#Target Variable as Afternoon\n",
    "data = crimes_pred_data.drop(['PD_DESC','CRM_ATPT_CPTD_CD','Precinct','Time','Morning','Evening','Night'],axis=1)\n",
    "labelencoder_X = LabelEncoder()\n",
    "data['OFNS_DESC'] = labelencoder_X.fit_transform(data['OFNS_DESC'])\n",
    "data['PREM_TYP_DESC'] = labelencoder_X.fit_transform(data['PREM_TYP_DESC'])\n",
    "data['LAW_CAT_CD'] = labelencoder_X.fit_transform(data['LAW_CAT_CD'])\n",
    "data['LOC_OF_OCCUR_DESC'] = labelencoder_X.fit_transform(data['LOC_OF_OCCUR_DESC'])\n",
    "data['Afternoon'] = labelencoder_X.fit_transform(data['Afternoon'])\n",
    "\n",
    "X_noon = data.iloc[:, 0:4].values\n",
    "Y_noon = data.iloc[:, 4].values\n",
    "\n",
    "# perform Principle Component Analysis\n",
    "split_data_noon = performPCA(X_noon,Y_noon)\n",
    "\n",
    "#Compute Confusion Matrix\n",
    "getConfusionMatrix(split_data_noon)\n"
   ]
  },
  {
   "cell_type": "code",
   "execution_count": 7,
   "metadata": {},
   "outputs": [
    {
     "name": "stdout",
     "output_type": "stream",
     "text": [
      "The Variance is [0.34866883 0.25363372]\n",
      "Accuracy: 0.8748035136384651\n",
      "\n",
      "Confusion Matrix is as follows\n",
      "[[9461    0]\n",
      " [1354    0]]\n"
     ]
    },
    {
     "name": "stderr",
     "output_type": "stream",
     "text": [
      "P:\\Anaconda\\lib\\site-packages\\sklearn\\utils\\validation.py:475: DataConversionWarning: Data with input dtype int64 was converted to float64 by StandardScaler.\n",
      "  warnings.warn(msg, DataConversionWarning)\n"
     ]
    }
   ],
   "source": [
    "#Target Variable as Evening\n",
    "data = crimes_pred_data.drop(['PD_DESC','CRM_ATPT_CPTD_CD','Precinct','Time','Morning','Afternoon','Night'],axis=1)\n",
    "labelencoder_X = LabelEncoder()\n",
    "data['OFNS_DESC'] = labelencoder_X.fit_transform(data['OFNS_DESC'])\n",
    "data['PREM_TYP_DESC'] = labelencoder_X.fit_transform(data['PREM_TYP_DESC'])\n",
    "data['LAW_CAT_CD'] = labelencoder_X.fit_transform(data['LAW_CAT_CD'])\n",
    "data['LOC_OF_OCCUR_DESC'] = labelencoder_X.fit_transform(data['LOC_OF_OCCUR_DESC'])\n",
    "data['Evening'] = labelencoder_X.fit_transform(data['Evening'])\n",
    "    \n",
    "X_eve = data.iloc[:, 0:4].values\n",
    "Y_eve = data.iloc[:, 4].values\n",
    "\n",
    "# perform Principle Component Analysis\n",
    "split_data_eve = performPCA(X_eve,Y_eve)\n",
    "\n",
    "#Compute Confusion Matrix\n",
    "getConfusionMatrix(split_data_eve)\n"
   ]
  },
  {
   "cell_type": "code",
   "execution_count": 8,
   "metadata": {},
   "outputs": [
    {
     "name": "stdout",
     "output_type": "stream",
     "text": [
      "The Variance is [0.34866883 0.25363372]\n",
      "Accuracy: 0.8940360610263522\n",
      "\n",
      "Confusion Matrix is as follows\n",
      "[[9669    0]\n",
      " [1146    0]]\n"
     ]
    },
    {
     "name": "stderr",
     "output_type": "stream",
     "text": [
      "P:\\Anaconda\\lib\\site-packages\\sklearn\\utils\\validation.py:475: DataConversionWarning: Data with input dtype int64 was converted to float64 by StandardScaler.\n",
      "  warnings.warn(msg, DataConversionWarning)\n"
     ]
    }
   ],
   "source": [
    "#Target Variable as Night\n",
    "\n",
    "data = crimes_pred_data.drop(['PD_DESC','CRM_ATPT_CPTD_CD','Precinct','Time','Morning','Afternoon','Evening'],axis=1)\n",
    "labelencoder_X = LabelEncoder()\n",
    "data['OFNS_DESC'] = labelencoder_X.fit_transform(data['OFNS_DESC'])\n",
    "data['PREM_TYP_DESC'] = labelencoder_X.fit_transform(data['PREM_TYP_DESC'])\n",
    "data['LAW_CAT_CD'] = labelencoder_X.fit_transform(data['LAW_CAT_CD'])\n",
    "data['LOC_OF_OCCUR_DESC'] = labelencoder_X.fit_transform(data['LOC_OF_OCCUR_DESC'])\n",
    "data['Night'] = labelencoder_X.fit_transform(data['Night'])\n",
    "    \n",
    "X_night = data.iloc[:, 0:4].values\n",
    "Y_night = data.iloc[:, 4].values\n",
    "\n",
    "# perform Principle Component Analysis\n",
    "split_data_night = performPCA(X_night,Y_night)\n",
    "\n",
    "#Compute Confusion Matrix\n",
    "getConfusionMatrix(split_data_night)\n"
   ]
  },
  {
   "cell_type": "code",
   "execution_count": 11,
   "metadata": {},
   "outputs": [
    {
     "name": "stdout",
     "output_type": "stream",
     "text": [
      "The Variance is [0.18336729 0.16921799]\n",
      "Accuracy: 0.5774387424872862\n",
      "\n",
      "Confusion Matrix is as follows\n",
      "[[2223 1304    0]\n",
      " [ 776 4022    0]\n",
      " [ 826 1664    0]]\n"
     ]
    },
    {
     "name": "stderr",
     "output_type": "stream",
     "text": [
      "P:\\Anaconda\\lib\\site-packages\\sklearn\\utils\\validation.py:475: DataConversionWarning: Data with input dtype int64 was converted to float64 by StandardScaler.\n",
      "  warnings.warn(msg, DataConversionWarning)\n"
     ]
    }
   ],
   "source": [
    "#Target Variable as OFNS_DESC\n",
    "data = crimes_pred_data.drop(['PD_DESC','OFNS_DESC','CRM_ATPT_CPTD_CD','Precinct','Time'],axis=1)\n",
    "labelencoder_X = LabelEncoder()\n",
    "data['PREM_TYP_DESC'] = labelencoder_X.fit_transform(data['PREM_TYP_DESC'])\n",
    "data['LAW_CAT_CD'] = labelencoder_X.fit_transform(data['LAW_CAT_CD'])\n",
    "data['LOC_OF_OCCUR_DESC'] = labelencoder_X.fit_transform(data['LOC_OF_OCCUR_DESC'])\n",
    "data['Morning'] = labelencoder_X.fit_transform(data['Morning'])\n",
    "data['Afternoon'] = labelencoder_X.fit_transform(data['Afternoon'])\n",
    "data['Evening'] = labelencoder_X.fit_transform(data['Evening'])\n",
    "data['Night'] = labelencoder_X.fit_transform(data['Night'])\n",
    "\n",
    "data_ofns = crimes_pred_data.copy()\n",
    "data_ofns.reset_index(drop=True, inplace=True)\n",
    "data_ofns = data_ofns.drop(['PD_DESC','PREM_TYP_DESC','LAW_CAT_CD','LOC_OF_OCCUR_DESC','CRM_ATPT_CPTD_CD','Precinct','Time','Morning','Afternoon','Evening','Night'],axis=1)\n",
    "    \n",
    "    \n",
    "X_ofns = data.iloc[:, 0:7].values\n",
    "data_ofns['OFNS_DESC'] = labelencoder_X.fit_transform(data_ofns['OFNS_DESC'])\n",
    "Y_ofns = data_ofns['OFNS_DESC']\n",
    "\n",
    "# perform Principle Component Analysis\n",
    "split_data_ofns = performPCA(X_ofns,Y_ofns)\n",
    "\n",
    "#Compute Confusion Matrix\n",
    "getConfusionMatrix(split_data_ofns)\n"
   ]
  },
  {
   "cell_type": "code",
   "execution_count": 12,
   "metadata": {},
   "outputs": [
    {
     "name": "stdout",
     "output_type": "stream",
     "text": [
      "The Variance is [0.17825909 0.16682529]\n",
      "Accuracy: 0.6338418862690708\n",
      "\n",
      "Confusion Matrix is as follows\n",
      "[[   0    0 3398]\n",
      " [   0    0  562]\n",
      " [   0    0 6855]]\n"
     ]
    },
    {
     "name": "stderr",
     "output_type": "stream",
     "text": [
      "P:\\Anaconda\\lib\\site-packages\\sklearn\\utils\\validation.py:475: DataConversionWarning: Data with input dtype int64 was converted to float64 by StandardScaler.\n",
      "  warnings.warn(msg, DataConversionWarning)\n"
     ]
    }
   ],
   "source": [
    "#Target Variable as Premises\n",
    "data = crimes_pred_data.drop(['PD_DESC','PREM_TYP_DESC','CRM_ATPT_CPTD_CD','Precinct','Time'],axis=1)\n",
    "labelencoder_X = LabelEncoder()\n",
    "data['OFNS_DESC'] = labelencoder_X.fit_transform(data['OFNS_DESC'])\n",
    "data['LAW_CAT_CD'] = labelencoder_X.fit_transform(data['LAW_CAT_CD'])\n",
    "data['LOC_OF_OCCUR_DESC'] = labelencoder_X.fit_transform(data['LOC_OF_OCCUR_DESC'])\n",
    "data['Morning'] = labelencoder_X.fit_transform(data['Morning'])\n",
    "data['Afternoon'] = labelencoder_X.fit_transform(data['Afternoon'])\n",
    "data['Evening'] = labelencoder_X.fit_transform(data['Evening'])\n",
    "data['Night'] = labelencoder_X.fit_transform(data['Night'])\n",
    "\n",
    "data_ofns = crimes_pred_data.copy()\n",
    "data_ofns.reset_index(drop=True, inplace=True)\n",
    "data_ofns = data_ofns.drop(['PD_DESC','OFNS_DESC','LAW_CAT_CD','LOC_OF_OCCUR_DESC','CRM_ATPT_CPTD_CD','Precinct','Time','Morning','Afternoon','Evening','Night'],axis=1)\n",
    "    \n",
    "    \n",
    "X_ofns = data.iloc[:, 0:7].values\n",
    "data_ofns['PREM_TYP_DESC'] = labelencoder_X.fit_transform(data_ofns['PREM_TYP_DESC'])\n",
    "Y_ofns = data_ofns['PREM_TYP_DESC']\n",
    "\n",
    "# perform Principle Component Analysis\n",
    "split_data_ofns = performPCA(X_ofns,Y_ofns)\n",
    "\n",
    "#Compute Confusion Matrix\n",
    "getConfusionMatrix(split_data_ofns)"
   ]
  },
  {
   "cell_type": "code",
   "execution_count": 14,
   "metadata": {},
   "outputs": [
    {
     "name": "stdout",
     "output_type": "stream",
     "text": [
      "The Variance is [0.19834576 0.17557375]\n",
      "Accuracy: 0.9249190938511327\n",
      "\n",
      "Confusion Matrix is as follows\n",
      "[[    0   812]\n",
      " [    0 10003]]\n"
     ]
    },
    {
     "name": "stderr",
     "output_type": "stream",
     "text": [
      "P:\\Anaconda\\lib\\site-packages\\sklearn\\utils\\validation.py:475: DataConversionWarning: Data with input dtype int64 was converted to float64 by StandardScaler.\n",
      "  warnings.warn(msg, DataConversionWarning)\n"
     ]
    }
   ],
   "source": [
    "#Target Variable as Intensity of Crime\n",
    "data = crimes_pred_data.drop(['PD_DESC','LAW_CAT_CD','CRM_ATPT_CPTD_CD','Precinct','Time'],axis=1)\n",
    "labelencoder_X = LabelEncoder()\n",
    "data['OFNS_DESC'] = labelencoder_X.fit_transform(data['OFNS_DESC'])\n",
    "data['PREM_TYP_DESC'] = labelencoder_X.fit_transform(data['PREM_TYP_DESC'])\n",
    "data['LOC_OF_OCCUR_DESC'] = labelencoder_X.fit_transform(data['LOC_OF_OCCUR_DESC'])\n",
    "data['Morning'] = labelencoder_X.fit_transform(data['Morning'])\n",
    "data['Afternoon'] = labelencoder_X.fit_transform(data['Afternoon'])\n",
    "data['Evening'] = labelencoder_X.fit_transform(data['Evening'])\n",
    "data['Night'] = labelencoder_X.fit_transform(data['Night'])\n",
    "\n",
    "data_ofns = crimes_pred_data.copy()\n",
    "data_ofns.reset_index(drop=True, inplace=True)\n",
    "data_ofns = data_ofns.drop(['PD_DESC','OFNS_DESC','PREM_TYP_DESC','LOC_OF_OCCUR_DESC','CRM_ATPT_CPTD_CD','Precinct','Time','Morning','Afternoon','Evening','Night'],axis=1)\n",
    "    \n",
    "    \n",
    "X_ofns = data.iloc[:, 0:7].values\n",
    "data_ofns['LAW_CAT_CD'] = labelencoder_X.fit_transform(data_ofns['LAW_CAT_CD'])\n",
    "Y_ofns = data_ofns['LAW_CAT_CD']\n",
    "\n",
    "# perform Principle Component Analysis\n",
    "split_data_ofns = performPCA(X_ofns,Y_ofns)\n",
    "\n",
    "#Compute Confusion Matrix\n",
    "getConfusionMatrix(split_data_ofns)"
   ]
  },
  {
   "cell_type": "code",
   "execution_count": 17,
   "metadata": {},
   "outputs": [
    {
     "name": "stdout",
     "output_type": "stream",
     "text": [
      "The Variance is [0.19619752 0.17648708]\n",
      "Accuracy: 0.7061488673139159\n",
      "\n",
      "Confusion Matrix is as follows\n",
      "[[   0 2621    0    0]\n",
      " [   0 7637    0    0]\n",
      " [   0  392    0    0]\n",
      " [   0  165    0    0]]\n"
     ]
    },
    {
     "name": "stderr",
     "output_type": "stream",
     "text": [
      "P:\\Anaconda\\lib\\site-packages\\sklearn\\utils\\validation.py:475: DataConversionWarning: Data with input dtype int64 was converted to float64 by StandardScaler.\n",
      "  warnings.warn(msg, DataConversionWarning)\n"
     ]
    }
   ],
   "source": [
    "#Target Variable as Location of Occurence\n",
    "data = crimes_pred_data.drop(['PD_DESC','LOC_OF_OCCUR_DESC','CRM_ATPT_CPTD_CD','Precinct','Time'],axis=1)\n",
    "labelencoder_X = LabelEncoder()\n",
    "data['OFNS_DESC'] = labelencoder_X.fit_transform(data['OFNS_DESC'])\n",
    "data['LAW_CAT_CD'] = labelencoder_X.fit_transform(data['LAW_CAT_CD'])\n",
    "data['PREM_TYP_DESC'] = labelencoder_X.fit_transform(data['PREM_TYP_DESC'])\n",
    "data['Morning'] = labelencoder_X.fit_transform(data['Morning'])\n",
    "data['Afternoon'] = labelencoder_X.fit_transform(data['Afternoon'])\n",
    "data['Evening'] = labelencoder_X.fit_transform(data['Evening'])\n",
    "data['Night'] = labelencoder_X.fit_transform(data['Night'])\n",
    "\n",
    "data_ofns = crimes_pred_data.copy()\n",
    "data_ofns.reset_index(drop=True, inplace=True)\n",
    "data_ofns = data_ofns.drop(['PD_DESC','OFNS_DESC','PREM_TYP_DESC','LAW_CAT_CD','CRM_ATPT_CPTD_CD','Precinct','Time','Morning','Afternoon','Evening','Night'],axis=1)\n",
    "    \n",
    "    \n",
    "X_ofns = data.iloc[:, 0:7].values\n",
    "data_ofns['LOC_OF_OCCUR_DESC'] = labelencoder_X.fit_transform(data_ofns['LOC_OF_OCCUR_DESC'])\n",
    "Y_ofns = data_ofns['LOC_OF_OCCUR_DESC']\n",
    "\n",
    "# perform Principle Component Analysis\n",
    "split_data_ofns = performPCA(X_ofns,Y_ofns)\n",
    "\n",
    "#Compute Confusion Matrix\n",
    "getConfusionMatrix(split_data_ofns)"
   ]
  },
  {
   "cell_type": "code",
   "execution_count": null,
   "metadata": {},
   "outputs": [],
   "source": []
  }
 ],
 "metadata": {
  "kernelspec": {
   "display_name": "Python 3",
   "language": "python",
   "name": "python3"
  },
  "language_info": {
   "codemirror_mode": {
    "name": "ipython",
    "version": 3
   },
   "file_extension": ".py",
   "mimetype": "text/x-python",
   "name": "python",
   "nbconvert_exporter": "python",
   "pygments_lexer": "ipython3",
   "version": "3.7.0"
  }
 },
 "nbformat": 4,
 "nbformat_minor": 2
}
