{
 "cells": [
  {
   "cell_type": "code",
   "execution_count": 1,
   "metadata": {},
   "outputs": [
    {
     "name": "stderr",
     "output_type": "stream",
     "text": [
      "P:\\Anaconda\\lib\\site-packages\\ipykernel\\parentpoller.py:116: UserWarning: Parent poll failed.  If the frontend dies,\n",
      "                the kernel may be left running.  Please let us know\n",
      "                about your system (bitness, Python, etc.) at\n",
      "                ipython-dev@scipy.org\n",
      "  ipython-dev@scipy.org\"\"\")\n"
     ]
    }
   ],
   "source": [
    "# Data manipulation\n",
    "import numpy as np\n",
    "\n",
    "#Data Exploration\n",
    "import pandas as pd\n",
    "\n",
    "#Data Visualization\n",
    "import matplotlib.pyplot as plt\n",
    "%matplotlib inline "
   ]
  },
  {
   "cell_type": "code",
   "execution_count": 2,
   "metadata": {},
   "outputs": [
    {
     "name": "stdout",
     "output_type": "stream",
     "text": [
      "0.0\n",
      "0.0\n",
      "0.0\n",
      "0.0\n",
      "0.0\n",
      "<class 'pandas.core.frame.DataFrame'>\n",
      "Int64Index: 5835784 entries, 1 to 6039728\n",
      "Data columns (total 16 columns):\n",
      "CMPLNT_FR_DT         object\n",
      "CMPLNT_FR_TM         object\n",
      "CMPLNT_TO_DT         object\n",
      "CMPLNT_TO_TM         object\n",
      "RPT_DT               object\n",
      "OFNS_DESC            object\n",
      "PD_DESC              object\n",
      "CRM_ATPT_CPTD_CD     object\n",
      "LAW_CAT_CD           object\n",
      "BORO_NM              object\n",
      "ADDR_PCT_CD          float64\n",
      "LOC_OF_OCCUR_DESC    object\n",
      "PREM_TYP_DESC        object\n",
      "Latitude             float64\n",
      "Longitude            float64\n",
      "Lat_Lon              object\n",
      "dtypes: float64(3), object(13)\n",
      "memory usage: 756.9+ MB\n",
      "<class 'pandas.core.frame.DataFrame'>\n",
      "RangeIndex: 77 entries, 0 to 76\n",
      "Data columns (total 4 columns):\n",
      "Shape_Area    77 non-null float64\n",
      "Shape_Leng    77 non-null float64\n",
      "Precinct      77 non-null int64\n",
      "the_geom      77 non-null object\n",
      "dtypes: float64(2), int64(1), object(1)\n",
      "memory usage: 2.5+ KB\n"
     ]
    }
   ],
   "source": [
    "from sklearn.preprocessing import LabelEncoder, OneHotEncoder\n",
    "from Data_Filter_for_model_selection import getFinalData"
   ]
  },
  {
   "cell_type": "code",
   "execution_count": 3,
   "metadata": {},
   "outputs": [],
   "source": [
    "from Principle_component_analysis_main import performPCA,getConfusionMatrix,getVisuals,getXTrain,getYTrain,getXTest,getYTest,applyModel,getMetrics"
   ]
  },
  {
   "cell_type": "code",
   "execution_count": 4,
   "metadata": {},
   "outputs": [],
   "source": [
    "crimes_pred_data = getFinalData()"
   ]
  },
  {
   "cell_type": "code",
   "execution_count": 5,
   "metadata": {},
   "outputs": [
    {
     "name": "stderr",
     "output_type": "stream",
     "text": [
      "P:\\Anaconda\\lib\\site-packages\\sklearn\\utils\\validation.py:475: DataConversionWarning: Data with input dtype int64 was converted to float64 by StandardScaler.\n",
      "  warnings.warn(msg, DataConversionWarning)\n"
     ]
    },
    {
     "name": "stdout",
     "output_type": "stream",
     "text": [
      "The Variance is [0.34866883 0.25363372]\n",
      "Accuracy: 0.7816920943134535\n",
      "\n",
      "Precision is----\n",
      "0.0\n",
      "\n",
      "Confusion Matrix is as follows\n",
      "[[8454    0]\n",
      " [2361    0]]\n",
      "\n",
      "Classification Error\n",
      "0.21830790568654646\n",
      "\n",
      "Sensitivity or Recall\n",
      "0.0\n",
      "\n",
      "Specificity\n",
      "1.0\n",
      "\n",
      "False Positive Rate\n",
      "0.0\n",
      "\n",
      "Precision\n",
      "0.0\n",
      "\n"
     ]
    },
    {
     "name": "stderr",
     "output_type": "stream",
     "text": [
      "P:\\Anaconda\\lib\\site-packages\\sklearn\\metrics\\classification.py:1135: UndefinedMetricWarning: Precision is ill-defined and being set to 0.0 due to no predicted samples.\n",
      "  'precision', 'predicted', average, warn_for)\n"
     ]
    }
   ],
   "source": [
    "# Target variable as Morning\n",
    "\n",
    "data = crimes_pred_data.drop(['PD_DESC','CRM_ATPT_CPTD_CD','Precinct','Time','Afternoon','Evening','Night'],axis=1)\n",
    "labelencoder_X = LabelEncoder()\n",
    "data['OFNS_DESC'] = labelencoder_X.fit_transform(data['OFNS_DESC'])\n",
    "data['PREM_TYP_DESC'] = labelencoder_X.fit_transform(data['PREM_TYP_DESC'])\n",
    "data['LAW_CAT_CD'] = labelencoder_X.fit_transform(data['LAW_CAT_CD'])\n",
    "data['LOC_OF_OCCUR_DESC'] = labelencoder_X.fit_transform(data['LOC_OF_OCCUR_DESC'])\n",
    "data['Morning'] = labelencoder_X.fit_transform(data['Morning'])\n",
    "    \n",
    "X = data.iloc[:, 0:4].values\n",
    "Y = data.iloc[:, 4].values\n",
    "  \n",
    "# perform Principle Component Analysis\n",
    "split_data_morn = performPCA(X,Y)\n",
    "\n",
    "#Get Training and Testing Data\n",
    "xTrain = split_data_morn[0]\n",
    "xTest = split_data_morn[1]\n",
    "yTrain = split_data_morn[2]\n",
    "yTest  = split_data_morn[3]\n",
    "\n",
    "#Apply Logistic Regression\n",
    "classifier_morn = applyModel(split_data_morn)\n",
    "\n",
    "#Compute confusion matrix\n",
    "cm = getConfusionMatrix(xTest,yTest,classifier_morn)\n"
   ]
  },
  {
   "cell_type": "code",
   "execution_count": 6,
   "metadata": {},
   "outputs": [
    {
     "data": {
      "image/png": "[encoded data removed]",
      "text/plain": [
       "<Figure size 432x288 with 1 Axes>"
      ]
     },
     "metadata": {
      "needs_background": "light"
     },
     "output_type": "display_data"
    }
   ],
   "source": [
    "getVisuals(xTrain,yTrain,classifier_morn,\"Morning\",\"Crime v/s Morning\")"
   ]
  },
  {
   "cell_type": "code",
   "execution_count": 7,
   "metadata": {},
   "outputs": [
    {
     "data": {
      "image/png": "[encoded data removed]",
      "text/plain": [
       "<Figure size 432x288 with 1 Axes>"
      ]
     },
     "metadata": {
      "needs_background": "light"
     },
     "output_type": "display_data"
    }
   ],
   "source": [
    "getVisuals(xTest,yTest,classifier_morn,\"Morning\",\"Crime v/s Morning\")"
   ]
  },
  {
   "cell_type": "code",
   "execution_count": 8,
   "metadata": {},
   "outputs": [
    {
     "name": "stdout",
     "output_type": "stream",
     "text": [
      "The Variance is [0.34866883 0.25363372]\n",
      "Accuracy: 0.8355062413314841\n",
      "\n",
      "Precision is----\n",
      "0.0\n",
      "\n",
      "Confusion Matrix is as follows\n",
      "[[9036    0]\n",
      " [1779    0]]\n",
      "\n",
      "Classification Error\n",
      "0.1644937586685159\n",
      "\n",
      "Sensitivity or Recall\n",
      "0.0\n",
      "\n",
      "Specificity\n",
      "1.0\n",
      "\n",
      "False Positive Rate\n",
      "0.0\n",
      "\n",
      "Precision\n",
      "0.0\n",
      "\n"
     ]
    },
    {
     "name": "stderr",
     "output_type": "stream",
     "text": [
      "P:\\Anaconda\\lib\\site-packages\\sklearn\\utils\\validation.py:475: DataConversionWarning: Data with input dtype int64 was converted to float64 by StandardScaler.\n",
      "  warnings.warn(msg, DataConversionWarning)\n",
      "P:\\Anaconda\\lib\\site-packages\\sklearn\\metrics\\classification.py:1135: UndefinedMetricWarning: Precision is ill-defined and being set to 0.0 due to no predicted samples.\n",
      "  'precision', 'predicted', average, warn_for)\n"
     ]
    }
   ],
   "source": [
    "#Target Variable as Afternoon\n",
    "data = crimes_pred_data.drop(['PD_DESC','CRM_ATPT_CPTD_CD','Precinct','Time','Morning','Evening','Night'],axis=1)\n",
    "labelencoder_X = LabelEncoder()\n",
    "data['OFNS_DESC'] = labelencoder_X.fit_transform(data['OFNS_DESC'])\n",
    "data['PREM_TYP_DESC'] = labelencoder_X.fit_transform(data['PREM_TYP_DESC'])\n",
    "data['LAW_CAT_CD'] = labelencoder_X.fit_transform(data['LAW_CAT_CD'])\n",
    "data['LOC_OF_OCCUR_DESC'] = labelencoder_X.fit_transform(data['LOC_OF_OCCUR_DESC'])\n",
    "data['Afternoon'] = labelencoder_X.fit_transform(data['Afternoon'])\n",
    "\n",
    "X_noon = data.iloc[:, 0:4].values\n",
    "Y_noon = data.iloc[:, 4].values\n",
    "\n",
    "# perform Principle Component Analysis\n",
    "split_data_noon = performPCA(X_noon,Y_noon)\n",
    "\n",
    "#Get Training and Testing Data\n",
    "xTrain = split_data_noon[0]\n",
    "xTest = split_data_noon[1]\n",
    "yTrain = split_data_noon[2]\n",
    "yTest  = split_data_noon[3]\n",
    "\n",
    "#Apply Logistic Regression\n",
    "classifier_noon = applyModel(split_data_noon)\n",
    "\n",
    "#Compute confusion matrix\n",
    "cm = getConfusionMatrix(xTest,yTest,classifier_noon)"
   ]
  },
  {
   "cell_type": "code",
   "execution_count": 9,
   "metadata": {},
   "outputs": [
    {
     "name": "stdout",
     "output_type": "stream",
     "text": [
      "The Variance is [0.34866883 0.25363372]\n",
      "Accuracy: 0.8748035136384651\n",
      "\n",
      "Precision is----\n",
      "0.0\n",
      "\n",
      "Confusion Matrix is as follows\n",
      "[[9461    0]\n",
      " [1354    0]]\n",
      "\n",
      "Classification Error\n",
      "0.1251964863615349\n",
      "\n",
      "Sensitivity or Recall\n",
      "0.0\n",
      "\n",
      "Specificity\n",
      "1.0\n",
      "\n",
      "False Positive Rate\n",
      "0.0\n",
      "\n",
      "Precision\n",
      "0.0\n",
      "\n"
     ]
    },
    {
     "name": "stderr",
     "output_type": "stream",
     "text": [
      "P:\\Anaconda\\lib\\site-packages\\sklearn\\utils\\validation.py:475: DataConversionWarning: Data with input dtype int64 was converted to float64 by StandardScaler.\n",
      "  warnings.warn(msg, DataConversionWarning)\n",
      "P:\\Anaconda\\lib\\site-packages\\sklearn\\metrics\\classification.py:1135: UndefinedMetricWarning: Precision is ill-defined and being set to 0.0 due to no predicted samples.\n",
      "  'precision', 'predicted', average, warn_for)\n"
     ]
    }
   ],
   "source": [
    "#Target Variable as Evening\n",
    "data = crimes_pred_data.drop(['PD_DESC','CRM_ATPT_CPTD_CD','Precinct','Time','Morning','Afternoon','Night'],axis=1)\n",
    "labelencoder_X = LabelEncoder()\n",
    "data['OFNS_DESC'] = labelencoder_X.fit_transform(data['OFNS_DESC'])\n",
    "data['PREM_TYP_DESC'] = labelencoder_X.fit_transform(data['PREM_TYP_DESC'])\n",
    "data['LAW_CAT_CD'] = labelencoder_X.fit_transform(data['LAW_CAT_CD'])\n",
    "data['LOC_OF_OCCUR_DESC'] = labelencoder_X.fit_transform(data['LOC_OF_OCCUR_DESC'])\n",
    "data['Evening'] = labelencoder_X.fit_transform(data['Evening'])\n",
    "    \n",
    "X_eve = data.iloc[:, 0:4].values\n",
    "Y_eve = data.iloc[:, 4].values\n",
    "\n",
    "# perform Principle Component Analysis\n",
    "split_data_eve = performPCA(X_eve,Y_eve)\n",
    "\n",
    "#Get Training and Testing Data\n",
    "xTrain = split_data_eve[0]\n",
    "xTest = split_data_eve[1]\n",
    "yTrain = split_data_eve[2]\n",
    "yTest  = split_data_eve[3]\n",
    "\n",
    "#Apply Logistic Regression\n",
    "classifier_eve = applyModel(split_data_eve)\n",
    "\n",
    "#Compute confusion matrix\n",
    "cm = getConfusionMatrix(xTest,yTest,classifier_eve)"
   ]
  },
  {
   "cell_type": "code",
   "execution_count": 10,
   "metadata": {},
   "outputs": [
    {
     "name": "stdout",
     "output_type": "stream",
     "text": [
      "The Variance is [0.34866883 0.25363372]\n",
      "Accuracy: 0.8940360610263522\n",
      "\n",
      "Precision is----\n",
      "0.0\n",
      "\n",
      "Confusion Matrix is as follows\n",
      "[[9669    0]\n",
      " [1146    0]]\n",
      "\n",
      "Classification Error\n",
      "0.10596393897364775\n",
      "\n",
      "Sensitivity or Recall\n",
      "0.0\n",
      "\n",
      "Specificity\n",
      "1.0\n",
      "\n",
      "False Positive Rate\n",
      "0.0\n",
      "\n",
      "Precision\n",
      "0.0\n",
      "\n"
     ]
    },
    {
     "name": "stderr",
     "output_type": "stream",
     "text": [
      "P:\\Anaconda\\lib\\site-packages\\sklearn\\utils\\validation.py:475: DataConversionWarning: Data with input dtype int64 was converted to float64 by StandardScaler.\n",
      "  warnings.warn(msg, DataConversionWarning)\n",
      "P:\\Anaconda\\lib\\site-packages\\sklearn\\metrics\\classification.py:1135: UndefinedMetricWarning: Precision is ill-defined and being set to 0.0 due to no predicted samples.\n",
      "  'precision', 'predicted', average, warn_for)\n"
     ]
    }
   ],
   "source": [
    "#Target Variable as Night\n",
    "\n",
    "data = crimes_pred_data.drop(['PD_DESC','CRM_ATPT_CPTD_CD','Precinct','Time','Morning','Afternoon','Evening'],axis=1)\n",
    "labelencoder_X = LabelEncoder()\n",
    "data['OFNS_DESC'] = labelencoder_X.fit_transform(data['OFNS_DESC'])\n",
    "data['PREM_TYP_DESC'] = labelencoder_X.fit_transform(data['PREM_TYP_DESC'])\n",
    "data['LAW_CAT_CD'] = labelencoder_X.fit_transform(data['LAW_CAT_CD'])\n",
    "data['LOC_OF_OCCUR_DESC'] = labelencoder_X.fit_transform(data['LOC_OF_OCCUR_DESC'])\n",
    "data['Night'] = labelencoder_X.fit_transform(data['Night'])\n",
    "    \n",
    "X_night = data.iloc[:, 0:4].values\n",
    "Y_night = data.iloc[:, 4].values\n",
    "\n",
    "# perform Principle Component Analysis\n",
    "split_data_night = performPCA(X_night,Y_night)\n",
    "\n",
    "#Get Training and Testing Data\n",
    "xTrain = split_data_night[0]\n",
    "xTest = split_data_night[1]\n",
    "yTrain = split_data_night[2]\n",
    "yTest  = split_data_night[3]\n",
    "\n",
    "#Apply Logistic Regression\n",
    "classifier_night = applyModel(split_data_night)\n",
    "\n",
    "#Compute confusion matrix\n",
    "cm = getConfusionMatrix(xTest,yTest,classifier_night)"
   ]
  },
  {
   "cell_type": "code",
   "execution_count": 11,
   "metadata": {},
   "outputs": [
    {
     "name": "stderr",
     "output_type": "stream",
     "text": [
      "P:\\Anaconda\\lib\\site-packages\\sklearn\\utils\\validation.py:475: DataConversionWarning: Data with input dtype int64 was converted to float64 by StandardScaler.\n",
      "  warnings.warn(msg, DataConversionWarning)\n"
     ]
    },
    {
     "name": "stdout",
     "output_type": "stream",
     "text": [
      "The Variance is [0.18336729 0.16921799]\n",
      "Accuracy: 0.5774387424872862\n",
      "\n"
     ]
    },
    {
     "ename": "ValueError",
     "evalue": "Target is multiclass but average='binary'. Please choose another average setting.",
     "output_type": "error",
     "traceback": [
      "\u001b[1;31m---------------------------------------------------------------------------\u001b[0m",
      "\u001b[1;31mValueError\u001b[0m                                Traceback (most recent call last)",
      "\u001b[1;32m<ipython-input-11-809981ef4ffe>\u001b[0m in \u001b[0;36m<module>\u001b[1;34m()\u001b[0m\n\u001b[0;32m     29\u001b[0m \u001b[1;33m\u001b[0m\u001b[0m\n\u001b[0;32m     30\u001b[0m \u001b[1;31m#Apply Logistic Regression\u001b[0m\u001b[1;33m\u001b[0m\u001b[1;33m\u001b[0m\u001b[0m\n\u001b[1;32m---> 31\u001b[1;33m \u001b[0mclassifier_ofns\u001b[0m \u001b[1;33m=\u001b[0m \u001b[0mapplyModel\u001b[0m\u001b[1;33m(\u001b[0m\u001b[0msplit_data_ofns\u001b[0m\u001b[1;33m)\u001b[0m\u001b[1;33m\u001b[0m\u001b[0m\n\u001b[0m\u001b[0;32m     32\u001b[0m \u001b[1;33m\u001b[0m\u001b[0m\n\u001b[0;32m     33\u001b[0m \u001b[1;31m#Compute confusion matrix\u001b[0m\u001b[1;33m\u001b[0m\u001b[1;33m\u001b[0m\u001b[0m\n",
      "\u001b[1;32m~\\Desktop\\Crime GIT files\\Capstone-Fall-18\\Python Notebook\\Principle_component_analysis_main.py\u001b[0m in \u001b[0;36mapplyModel\u001b[1;34m(split_data)\u001b[0m\n\u001b[0;32m     65\u001b[0m \u001b[1;33m\u001b[0m\u001b[0m\n\u001b[0;32m     66\u001b[0m     \u001b[1;32mfrom\u001b[0m \u001b[0msklearn\u001b[0m \u001b[1;32mimport\u001b[0m \u001b[0mmetrics\u001b[0m\u001b[1;33m\u001b[0m\u001b[0m\n\u001b[1;32m---> 67\u001b[1;33m     \u001b[0mprecision\u001b[0m \u001b[1;33m=\u001b[0m \u001b[0mmetrics\u001b[0m\u001b[1;33m.\u001b[0m\u001b[0mprecision_score\u001b[0m\u001b[1;33m(\u001b[0m\u001b[0mY_test\u001b[0m\u001b[1;33m,\u001b[0m\u001b[0my_pred\u001b[0m\u001b[1;33m)\u001b[0m\u001b[1;33m\u001b[0m\u001b[0m\n\u001b[0m\u001b[0;32m     68\u001b[0m     \u001b[0mprint\u001b[0m\u001b[1;33m(\u001b[0m\u001b[1;34m\"Precision is----\"\u001b[0m\u001b[1;33m)\u001b[0m\u001b[1;33m\u001b[0m\u001b[0m\n\u001b[0;32m     69\u001b[0m     \u001b[0mprint\u001b[0m\u001b[1;33m(\u001b[0m\u001b[0mprecision\u001b[0m\u001b[1;33m)\u001b[0m\u001b[1;33m\u001b[0m\u001b[0m\n",
      "\u001b[1;32mP:\\Anaconda\\lib\\site-packages\\sklearn\\metrics\\classification.py\u001b[0m in \u001b[0;36mprecision_score\u001b[1;34m(y_true, y_pred, labels, pos_label, average, sample_weight)\u001b[0m\n\u001b[0;32m   1259\u001b[0m                                                  \u001b[0maverage\u001b[0m\u001b[1;33m=\u001b[0m\u001b[0maverage\u001b[0m\u001b[1;33m,\u001b[0m\u001b[1;33m\u001b[0m\u001b[0m\n\u001b[0;32m   1260\u001b[0m                                                  \u001b[0mwarn_for\u001b[0m\u001b[1;33m=\u001b[0m\u001b[1;33m(\u001b[0m\u001b[1;34m'precision'\u001b[0m\u001b[1;33m,\u001b[0m\u001b[1;33m)\u001b[0m\u001b[1;33m,\u001b[0m\u001b[1;33m\u001b[0m\u001b[0m\n\u001b[1;32m-> 1261\u001b[1;33m                                                  sample_weight=sample_weight)\n\u001b[0m\u001b[0;32m   1262\u001b[0m     \u001b[1;32mreturn\u001b[0m \u001b[0mp\u001b[0m\u001b[1;33m\u001b[0m\u001b[0m\n\u001b[0;32m   1263\u001b[0m \u001b[1;33m\u001b[0m\u001b[0m\n",
      "\u001b[1;32mP:\\Anaconda\\lib\\site-packages\\sklearn\\metrics\\classification.py\u001b[0m in \u001b[0;36mprecision_recall_fscore_support\u001b[1;34m(y_true, y_pred, beta, labels, pos_label, average, warn_for, sample_weight)\u001b[0m\n\u001b[0;32m   1038\u001b[0m         \u001b[1;32melse\u001b[0m\u001b[1;33m:\u001b[0m\u001b[1;33m\u001b[0m\u001b[0m\n\u001b[0;32m   1039\u001b[0m             raise ValueError(\"Target is %s but average='binary'. Please \"\n\u001b[1;32m-> 1040\u001b[1;33m                              \"choose another average setting.\" % y_type)\n\u001b[0m\u001b[0;32m   1041\u001b[0m     \u001b[1;32melif\u001b[0m \u001b[0mpos_label\u001b[0m \u001b[1;32mnot\u001b[0m \u001b[1;32min\u001b[0m \u001b[1;33m(\u001b[0m\u001b[1;32mNone\u001b[0m\u001b[1;33m,\u001b[0m \u001b[1;36m1\u001b[0m\u001b[1;33m)\u001b[0m\u001b[1;33m:\u001b[0m\u001b[1;33m\u001b[0m\u001b[0m\n\u001b[0;32m   1042\u001b[0m         warnings.warn(\"Note that pos_label (set to %r) is ignored when \"\n",
      "\u001b[1;31mValueError\u001b[0m: Target is multiclass but average='binary'. Please choose another average setting."
     ]
    }
   ],
   "source": [
    "#Target Variable as OFNS_DESC\n",
    "data = crimes_pred_data.drop(['PD_DESC','OFNS_DESC','CRM_ATPT_CPTD_CD','Precinct','Time'],axis=1)\n",
    "labelencoder_X = LabelEncoder()\n",
    "data['PREM_TYP_DESC'] = labelencoder_X.fit_transform(data['PREM_TYP_DESC'])\n",
    "data['LAW_CAT_CD'] = labelencoder_X.fit_transform(data['LAW_CAT_CD'])\n",
    "data['LOC_OF_OCCUR_DESC'] = labelencoder_X.fit_transform(data['LOC_OF_OCCUR_DESC'])\n",
    "data['Morning'] = labelencoder_X.fit_transform(data['Morning'])\n",
    "data['Afternoon'] = labelencoder_X.fit_transform(data['Afternoon'])\n",
    "data['Evening'] = labelencoder_X.fit_transform(data['Evening'])\n",
    "data['Night'] = labelencoder_X.fit_transform(data['Night'])\n",
    "\n",
    "data_ofns = crimes_pred_data.copy()\n",
    "data_ofns.reset_index(drop=True, inplace=True)\n",
    "data_ofns = data_ofns.drop(['PD_DESC','PREM_TYP_DESC','LAW_CAT_CD','LOC_OF_OCCUR_DESC','CRM_ATPT_CPTD_CD','Precinct','Time','Morning','Afternoon','Evening','Night'],axis=1)\n",
    "    \n",
    "    \n",
    "X_ofns = data.iloc[:, 0:7].values\n",
    "data_ofns['OFNS_DESC'] = labelencoder_X.fit_transform(data_ofns['OFNS_DESC'])\n",
    "Y_ofns = data_ofns['OFNS_DESC']\n",
    "\n",
    "# perform Principle Component Analysis\n",
    "split_data_ofns = performPCA(X_ofns,Y_ofns)\n",
    "\n",
    "#Get Training and Testing Data\n",
    "xTrain = split_data_ofns[0]\n",
    "xTest = split_data_ofns[1]\n",
    "yTrain = split_data_ofns[2]\n",
    "yTest  = split_data_ofns[3]\n",
    "\n",
    "#Apply Logistic Regression\n",
    "classifier_ofns = applyModel(split_data_ofns)\n",
    "\n",
    "#Compute confusion matrix\n",
    "cm = getConfusionMatrix(xTest,yTest,classifier_ofns)\n"
   ]
  },
  {
   "cell_type": "code",
   "execution_count": 12,
   "metadata": {},
   "outputs": [
    {
     "name": "stdout",
     "output_type": "stream",
     "text": [
      "The Variance is [0.17825909 0.16682529]\n",
      "Accuracy: 0.6338418862690708\n",
      "\n"
     ]
    },
    {
     "name": "stderr",
     "output_type": "stream",
     "text": [
      "P:\\Anaconda\\lib\\site-packages\\sklearn\\utils\\validation.py:475: DataConversionWarning: Data with input dtype int64 was converted to float64 by StandardScaler.\n",
      "  warnings.warn(msg, DataConversionWarning)\n"
     ]
    },
    {
     "ename": "ValueError",
     "evalue": "Target is multiclass but average='binary'. Please choose another average setting.",
     "output_type": "error",
     "traceback": [
      "\u001b[1;31m---------------------------------------------------------------------------\u001b[0m",
      "\u001b[1;31mValueError\u001b[0m                                Traceback (most recent call last)",
      "\u001b[1;32m<ipython-input-12-cfe3e5093b05>\u001b[0m in \u001b[0;36m<module>\u001b[1;34m()\u001b[0m\n\u001b[0;32m     29\u001b[0m \u001b[1;33m\u001b[0m\u001b[0m\n\u001b[0;32m     30\u001b[0m \u001b[1;31m#Apply Logistic Regression\u001b[0m\u001b[1;33m\u001b[0m\u001b[1;33m\u001b[0m\u001b[0m\n\u001b[1;32m---> 31\u001b[1;33m \u001b[0mclassifier_prem\u001b[0m \u001b[1;33m=\u001b[0m \u001b[0mapplyModel\u001b[0m\u001b[1;33m(\u001b[0m\u001b[0msplit_data_prem\u001b[0m\u001b[1;33m)\u001b[0m\u001b[1;33m\u001b[0m\u001b[0m\n\u001b[0m\u001b[0;32m     32\u001b[0m \u001b[1;33m\u001b[0m\u001b[0m\n\u001b[0;32m     33\u001b[0m \u001b[1;31m#Compute confusion matrix\u001b[0m\u001b[1;33m\u001b[0m\u001b[1;33m\u001b[0m\u001b[0m\n",
      "\u001b[1;32m~\\Desktop\\Crime GIT files\\Capstone-Fall-18\\Python Notebook\\Principle_component_analysis_main.py\u001b[0m in \u001b[0;36mapplyModel\u001b[1;34m(split_data)\u001b[0m\n\u001b[0;32m     65\u001b[0m \u001b[1;33m\u001b[0m\u001b[0m\n\u001b[0;32m     66\u001b[0m     \u001b[1;32mfrom\u001b[0m \u001b[0msklearn\u001b[0m \u001b[1;32mimport\u001b[0m \u001b[0mmetrics\u001b[0m\u001b[1;33m\u001b[0m\u001b[0m\n\u001b[1;32m---> 67\u001b[1;33m     \u001b[0mprecision\u001b[0m \u001b[1;33m=\u001b[0m \u001b[0mmetrics\u001b[0m\u001b[1;33m.\u001b[0m\u001b[0mprecision_score\u001b[0m\u001b[1;33m(\u001b[0m\u001b[0mY_test\u001b[0m\u001b[1;33m,\u001b[0m\u001b[0my_pred\u001b[0m\u001b[1;33m)\u001b[0m\u001b[1;33m\u001b[0m\u001b[0m\n\u001b[0m\u001b[0;32m     68\u001b[0m     \u001b[0mprint\u001b[0m\u001b[1;33m(\u001b[0m\u001b[1;34m\"Precision is----\"\u001b[0m\u001b[1;33m)\u001b[0m\u001b[1;33m\u001b[0m\u001b[0m\n\u001b[0;32m     69\u001b[0m     \u001b[0mprint\u001b[0m\u001b[1;33m(\u001b[0m\u001b[0mprecision\u001b[0m\u001b[1;33m)\u001b[0m\u001b[1;33m\u001b[0m\u001b[0m\n",
      "\u001b[1;32mP:\\Anaconda\\lib\\site-packages\\sklearn\\metrics\\classification.py\u001b[0m in \u001b[0;36mprecision_score\u001b[1;34m(y_true, y_pred, labels, pos_label, average, sample_weight)\u001b[0m\n\u001b[0;32m   1259\u001b[0m                                                  \u001b[0maverage\u001b[0m\u001b[1;33m=\u001b[0m\u001b[0maverage\u001b[0m\u001b[1;33m,\u001b[0m\u001b[1;33m\u001b[0m\u001b[0m\n\u001b[0;32m   1260\u001b[0m                                                  \u001b[0mwarn_for\u001b[0m\u001b[1;33m=\u001b[0m\u001b[1;33m(\u001b[0m\u001b[1;34m'precision'\u001b[0m\u001b[1;33m,\u001b[0m\u001b[1;33m)\u001b[0m\u001b[1;33m,\u001b[0m\u001b[1;33m\u001b[0m\u001b[0m\n\u001b[1;32m-> 1261\u001b[1;33m                                                  sample_weight=sample_weight)\n\u001b[0m\u001b[0;32m   1262\u001b[0m     \u001b[1;32mreturn\u001b[0m \u001b[0mp\u001b[0m\u001b[1;33m\u001b[0m\u001b[0m\n\u001b[0;32m   1263\u001b[0m \u001b[1;33m\u001b[0m\u001b[0m\n",
      "\u001b[1;32mP:\\Anaconda\\lib\\site-packages\\sklearn\\metrics\\classification.py\u001b[0m in \u001b[0;36mprecision_recall_fscore_support\u001b[1;34m(y_true, y_pred, beta, labels, pos_label, average, warn_for, sample_weight)\u001b[0m\n\u001b[0;32m   1038\u001b[0m         \u001b[1;32melse\u001b[0m\u001b[1;33m:\u001b[0m\u001b[1;33m\u001b[0m\u001b[0m\n\u001b[0;32m   1039\u001b[0m             raise ValueError(\"Target is %s but average='binary'. Please \"\n\u001b[1;32m-> 1040\u001b[1;33m                              \"choose another average setting.\" % y_type)\n\u001b[0m\u001b[0;32m   1041\u001b[0m     \u001b[1;32melif\u001b[0m \u001b[0mpos_label\u001b[0m \u001b[1;32mnot\u001b[0m \u001b[1;32min\u001b[0m \u001b[1;33m(\u001b[0m\u001b[1;32mNone\u001b[0m\u001b[1;33m,\u001b[0m \u001b[1;36m1\u001b[0m\u001b[1;33m)\u001b[0m\u001b[1;33m:\u001b[0m\u001b[1;33m\u001b[0m\u001b[0m\n\u001b[0;32m   1042\u001b[0m         warnings.warn(\"Note that pos_label (set to %r) is ignored when \"\n",
      "\u001b[1;31mValueError\u001b[0m: Target is multiclass but average='binary'. Please choose another average setting."
     ]
    }
   ],
   "source": [
    "#Target Variable as Premises\n",
    "data = crimes_pred_data.drop(['PD_DESC','PREM_TYP_DESC','CRM_ATPT_CPTD_CD','Precinct','Time'],axis=1)\n",
    "labelencoder_X = LabelEncoder()\n",
    "data['OFNS_DESC'] = labelencoder_X.fit_transform(data['OFNS_DESC'])\n",
    "data['LAW_CAT_CD'] = labelencoder_X.fit_transform(data['LAW_CAT_CD'])\n",
    "data['LOC_OF_OCCUR_DESC'] = labelencoder_X.fit_transform(data['LOC_OF_OCCUR_DESC'])\n",
    "data['Morning'] = labelencoder_X.fit_transform(data['Morning'])\n",
    "data['Afternoon'] = labelencoder_X.fit_transform(data['Afternoon'])\n",
    "data['Evening'] = labelencoder_X.fit_transform(data['Evening'])\n",
    "data['Night'] = labelencoder_X.fit_transform(data['Night'])\n",
    "\n",
    "data_prem = crimes_pred_data.copy()\n",
    "data_prem.reset_index(drop=True, inplace=True)\n",
    "data_prem = data_prem.drop(['PD_DESC','OFNS_DESC','LAW_CAT_CD','LOC_OF_OCCUR_DESC','CRM_ATPT_CPTD_CD','Precinct','Time','Morning','Afternoon','Evening','Night'],axis=1)\n",
    "    \n",
    "    \n",
    "X_prem = data.iloc[:, 0:7].values\n",
    "data_prem['PREM_TYP_DESC'] = labelencoder_X.fit_transform(data_prem['PREM_TYP_DESC'])\n",
    "Y_prem = data_prem['PREM_TYP_DESC']\n",
    "\n",
    "# perform Principle Component Analysis\n",
    "split_data_prem = performPCA(X_prem,Y_prem)\n",
    "\n",
    "#Get Training and Testing Data\n",
    "xTrain = split_data_prem[0]\n",
    "xTest = split_data_prem[1]\n",
    "yTrain = split_data_prem[2]\n",
    "yTest  = split_data_prem[3]\n",
    "\n",
    "#Apply Logistic Regression\n",
    "classifier_prem = applyModel(split_data_prem)\n",
    "\n",
    "#Compute confusion matrix\n",
    "cm = getConfusionMatrix(xTest,yTest,classifier_prem)\n"
   ]
  },
  {
   "cell_type": "code",
   "execution_count": 13,
   "metadata": {},
   "outputs": [
    {
     "name": "stdout",
     "output_type": "stream",
     "text": [
      "The Variance is [0.19834576 0.17557375]\n",
      "Accuracy: 0.9249190938511327\n",
      "\n",
      "Precision is----\n",
      "0.9249190938511327\n",
      "\n",
      "Confusion Matrix is as follows\n",
      "[[    0   812]\n",
      " [    0 10003]]\n",
      "\n",
      "Classification Error\n",
      "0.07508090614886731\n",
      "\n",
      "Sensitivity or Recall\n",
      "1.0\n",
      "\n",
      "Specificity\n",
      "0.0\n",
      "\n",
      "False Positive Rate\n",
      "1.0\n",
      "\n",
      "Precision\n",
      "0.9249190938511327\n",
      "\n"
     ]
    },
    {
     "name": "stderr",
     "output_type": "stream",
     "text": [
      "P:\\Anaconda\\lib\\site-packages\\sklearn\\utils\\validation.py:475: DataConversionWarning: Data with input dtype int64 was converted to float64 by StandardScaler.\n",
      "  warnings.warn(msg, DataConversionWarning)\n"
     ]
    }
   ],
   "source": [
    "#Target Variable as Intensity of Crime\n",
    "data = crimes_pred_data.drop(['PD_DESC','LAW_CAT_CD','CRM_ATPT_CPTD_CD','Precinct','Time'],axis=1)\n",
    "labelencoder_X = LabelEncoder()\n",
    "data['OFNS_DESC'] = labelencoder_X.fit_transform(data['OFNS_DESC'])\n",
    "data['PREM_TYP_DESC'] = labelencoder_X.fit_transform(data['PREM_TYP_DESC'])\n",
    "data['LOC_OF_OCCUR_DESC'] = labelencoder_X.fit_transform(data['LOC_OF_OCCUR_DESC'])\n",
    "data['Morning'] = labelencoder_X.fit_transform(data['Morning'])\n",
    "data['Afternoon'] = labelencoder_X.fit_transform(data['Afternoon'])\n",
    "data['Evening'] = labelencoder_X.fit_transform(data['Evening'])\n",
    "data['Night'] = labelencoder_X.fit_transform(data['Night'])\n",
    "\n",
    "data_ofns = crimes_pred_data.copy()\n",
    "data_ofns.reset_index(drop=True, inplace=True)\n",
    "data_ofns = data_ofns.drop(['PD_DESC','OFNS_DESC','PREM_TYP_DESC','LOC_OF_OCCUR_DESC','CRM_ATPT_CPTD_CD','Precinct','Time','Morning','Afternoon','Evening','Night'],axis=1)\n",
    "    \n",
    "    \n",
    "X_ofns = data.iloc[:, 0:7].values\n",
    "data_ofns['LAW_CAT_CD'] = labelencoder_X.fit_transform(data_ofns['LAW_CAT_CD'])\n",
    "Y_ofns = data_ofns['LAW_CAT_CD']\n",
    "\n",
    "# perform Principle Component Analysis\n",
    "split_data_ofns = performPCA(X_ofns,Y_ofns)\n",
    "\n",
    "#Get Training and Testing Data\n",
    "xTrain = split_data_ofns[0]\n",
    "xTest = split_data_ofns[1]\n",
    "yTrain = split_data_ofns[2]\n",
    "yTest  = split_data_ofns[3]\n",
    "\n",
    "#Apply Logistic Regression\n",
    "classifier_prem = applyModel(split_data_ofns)\n",
    "\n",
    "#Compute confusion matrix\n",
    "cm = getConfusionMatrix(xTest,yTest,classifier_prem)"
   ]
  },
  {
   "cell_type": "code",
   "execution_count": 14,
   "metadata": {},
   "outputs": [
    {
     "name": "stderr",
     "output_type": "stream",
     "text": [
      "P:\\Anaconda\\lib\\site-packages\\sklearn\\utils\\validation.py:475: DataConversionWarning: Data with input dtype int64 was converted to float64 by StandardScaler.\n",
      "  warnings.warn(msg, DataConversionWarning)\n"
     ]
    },
    {
     "name": "stdout",
     "output_type": "stream",
     "text": [
      "The Variance is [0.19619752 0.17648708]\n",
      "Accuracy: 0.7061488673139159\n",
      "\n"
     ]
    },
    {
     "ename": "ValueError",
     "evalue": "Target is multiclass but average='binary'. Please choose another average setting.",
     "output_type": "error",
     "traceback": [
      "\u001b[1;31m---------------------------------------------------------------------------\u001b[0m",
      "\u001b[1;31mValueError\u001b[0m                                Traceback (most recent call last)",
      "\u001b[1;32m<ipython-input-14-21f7701a7b66>\u001b[0m in \u001b[0;36m<module>\u001b[1;34m()\u001b[0m\n\u001b[0;32m     29\u001b[0m \u001b[1;33m\u001b[0m\u001b[0m\n\u001b[0;32m     30\u001b[0m \u001b[1;31m#Apply Logistic Regression\u001b[0m\u001b[1;33m\u001b[0m\u001b[1;33m\u001b[0m\u001b[0m\n\u001b[1;32m---> 31\u001b[1;33m \u001b[0mclassifier_prem\u001b[0m \u001b[1;33m=\u001b[0m \u001b[0mapplyModel\u001b[0m\u001b[1;33m(\u001b[0m\u001b[0msplit_data_ofns\u001b[0m\u001b[1;33m)\u001b[0m\u001b[1;33m\u001b[0m\u001b[0m\n\u001b[0m\u001b[0;32m     32\u001b[0m \u001b[1;33m\u001b[0m\u001b[0m\n\u001b[0;32m     33\u001b[0m \u001b[1;31m#Compute confusion matrix\u001b[0m\u001b[1;33m\u001b[0m\u001b[1;33m\u001b[0m\u001b[0m\n",
      "\u001b[1;32m~\\Desktop\\Crime GIT files\\Capstone-Fall-18\\Python Notebook\\Principle_component_analysis_main.py\u001b[0m in \u001b[0;36mapplyModel\u001b[1;34m(split_data)\u001b[0m\n\u001b[0;32m     65\u001b[0m \u001b[1;33m\u001b[0m\u001b[0m\n\u001b[0;32m     66\u001b[0m     \u001b[1;32mfrom\u001b[0m \u001b[0msklearn\u001b[0m \u001b[1;32mimport\u001b[0m \u001b[0mmetrics\u001b[0m\u001b[1;33m\u001b[0m\u001b[0m\n\u001b[1;32m---> 67\u001b[1;33m     \u001b[0mprecision\u001b[0m \u001b[1;33m=\u001b[0m \u001b[0mmetrics\u001b[0m\u001b[1;33m.\u001b[0m\u001b[0mprecision_score\u001b[0m\u001b[1;33m(\u001b[0m\u001b[0mY_test\u001b[0m\u001b[1;33m,\u001b[0m\u001b[0my_pred\u001b[0m\u001b[1;33m)\u001b[0m\u001b[1;33m\u001b[0m\u001b[0m\n\u001b[0m\u001b[0;32m     68\u001b[0m     \u001b[0mprint\u001b[0m\u001b[1;33m(\u001b[0m\u001b[1;34m\"Precision is----\"\u001b[0m\u001b[1;33m)\u001b[0m\u001b[1;33m\u001b[0m\u001b[0m\n\u001b[0;32m     69\u001b[0m     \u001b[0mprint\u001b[0m\u001b[1;33m(\u001b[0m\u001b[0mprecision\u001b[0m\u001b[1;33m)\u001b[0m\u001b[1;33m\u001b[0m\u001b[0m\n",
      "\u001b[1;32mP:\\Anaconda\\lib\\site-packages\\sklearn\\metrics\\classification.py\u001b[0m in \u001b[0;36mprecision_score\u001b[1;34m(y_true, y_pred, labels, pos_label, average, sample_weight)\u001b[0m\n\u001b[0;32m   1259\u001b[0m                                                  \u001b[0maverage\u001b[0m\u001b[1;33m=\u001b[0m\u001b[0maverage\u001b[0m\u001b[1;33m,\u001b[0m\u001b[1;33m\u001b[0m\u001b[0m\n\u001b[0;32m   1260\u001b[0m                                                  \u001b[0mwarn_for\u001b[0m\u001b[1;33m=\u001b[0m\u001b[1;33m(\u001b[0m\u001b[1;34m'precision'\u001b[0m\u001b[1;33m,\u001b[0m\u001b[1;33m)\u001b[0m\u001b[1;33m,\u001b[0m\u001b[1;33m\u001b[0m\u001b[0m\n\u001b[1;32m-> 1261\u001b[1;33m                                                  sample_weight=sample_weight)\n\u001b[0m\u001b[0;32m   1262\u001b[0m     \u001b[1;32mreturn\u001b[0m \u001b[0mp\u001b[0m\u001b[1;33m\u001b[0m\u001b[0m\n\u001b[0;32m   1263\u001b[0m \u001b[1;33m\u001b[0m\u001b[0m\n",
      "\u001b[1;32mP:\\Anaconda\\lib\\site-packages\\sklearn\\metrics\\classification.py\u001b[0m in \u001b[0;36mprecision_recall_fscore_support\u001b[1;34m(y_true, y_pred, beta, labels, pos_label, average, warn_for, sample_weight)\u001b[0m\n\u001b[0;32m   1038\u001b[0m         \u001b[1;32melse\u001b[0m\u001b[1;33m:\u001b[0m\u001b[1;33m\u001b[0m\u001b[0m\n\u001b[0;32m   1039\u001b[0m             raise ValueError(\"Target is %s but average='binary'. Please \"\n\u001b[1;32m-> 1040\u001b[1;33m                              \"choose another average setting.\" % y_type)\n\u001b[0m\u001b[0;32m   1041\u001b[0m     \u001b[1;32melif\u001b[0m \u001b[0mpos_label\u001b[0m \u001b[1;32mnot\u001b[0m \u001b[1;32min\u001b[0m \u001b[1;33m(\u001b[0m\u001b[1;32mNone\u001b[0m\u001b[1;33m,\u001b[0m \u001b[1;36m1\u001b[0m\u001b[1;33m)\u001b[0m\u001b[1;33m:\u001b[0m\u001b[1;33m\u001b[0m\u001b[0m\n\u001b[0;32m   1042\u001b[0m         warnings.warn(\"Note that pos_label (set to %r) is ignored when \"\n",
      "\u001b[1;31mValueError\u001b[0m: Target is multiclass but average='binary'. Please choose another average setting."
     ]
    }
   ],
   "source": [
    "#Target Variable as Location of Occurence\n",
    "data = crimes_pred_data.drop(['PD_DESC','LOC_OF_OCCUR_DESC','CRM_ATPT_CPTD_CD','Precinct','Time'],axis=1)\n",
    "labelencoder_X = LabelEncoder()\n",
    "data['OFNS_DESC'] = labelencoder_X.fit_transform(data['OFNS_DESC'])\n",
    "data['LAW_CAT_CD'] = labelencoder_X.fit_transform(data['LAW_CAT_CD'])\n",
    "data['PREM_TYP_DESC'] = labelencoder_X.fit_transform(data['PREM_TYP_DESC'])\n",
    "data['Morning'] = labelencoder_X.fit_transform(data['Morning'])\n",
    "data['Afternoon'] = labelencoder_X.fit_transform(data['Afternoon'])\n",
    "data['Evening'] = labelencoder_X.fit_transform(data['Evening'])\n",
    "data['Night'] = labelencoder_X.fit_transform(data['Night'])\n",
    "\n",
    "data_ofns = crimes_pred_data.copy()\n",
    "data_ofns.reset_index(drop=True, inplace=True)\n",
    "data_ofns = data_ofns.drop(['PD_DESC','OFNS_DESC','PREM_TYP_DESC','LAW_CAT_CD','CRM_ATPT_CPTD_CD','Precinct','Time','Morning','Afternoon','Evening','Night'],axis=1)\n",
    "    \n",
    "    \n",
    "X_ofns = data.iloc[:, 0:7].values\n",
    "data_ofns['LOC_OF_OCCUR_DESC'] = labelencoder_X.fit_transform(data_ofns['LOC_OF_OCCUR_DESC'])\n",
    "Y_ofns = data_ofns['LOC_OF_OCCUR_DESC']\n",
    "\n",
    "# perform Principle Component Analysis\n",
    "split_data_ofns = performPCA(X_ofns,Y_ofns)\n",
    "\n",
    "#Get Training and Testing Data\n",
    "xTrain = split_data_ofns[0]\n",
    "xTest = split_data_ofns[1]\n",
    "yTrain = split_data_ofns[2]\n",
    "yTest  = split_data_ofns[3]\n",
    "\n",
    "#Apply Logistic Regression\n",
    "classifier_prem = applyModel(split_data_ofns)\n",
    "\n",
    "#Compute confusion matrix\n",
    "cm = getConfusionMatrix(xTest,yTest,classifier_prem)"
   ]
  },
  {
   "cell_type": "code",
   "execution_count": null,
   "metadata": {},
   "outputs": [],
   "source": []
  }
 ],
 "metadata": {
  "kernelspec": {
   "display_name": "Python 3",
   "language": "python",
   "name": "python3"
  },
  "language_info": {
   "codemirror_mode": {
    "name": "ipython",
    "version": 3
   },
   "file_extension": ".py",
   "mimetype": "text/x-python",
   "name": "python",
   "nbconvert_exporter": "python",
   "pygments_lexer": "ipython3",
   "version": "3.7.0"
  }
 },
 "nbformat": 4,
 "nbformat_minor": 2
}
